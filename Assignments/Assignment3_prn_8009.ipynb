{
 "cells": [
  {
   "cell_type": "code",
   "execution_count": 1,
   "metadata": {},
   "outputs": [],
   "source": [
    "#Q.1\n",
    "# Read a word from user and print all meanings of it.\n",
    "# Read a word from user and print all noun meanings"
   ]
  },
  {
   "cell_type": "code",
   "execution_count": 2,
   "metadata": {},
   "outputs": [
    {
     "name": "stdout",
     "output_type": "stream",
     "text": [
      "an adult person who is male (as opposed to a woman)\n",
      "someone who serves in the armed forces; a member of a military force\n",
      "the generic use of the word to refer to any human being\n",
      "any living or extinct member of the family Hominidae characterized by superior intelligence, articulate speech, and erect carriage\n",
      "a male subordinate\n",
      "an adult male person who has a manly character (virile and courageous competent)\n",
      "a manservant who acts as a personal attendant to his employer\n",
      "a male person who plays a significant role (husband or lover or boyfriend) in the life of a particular woman\n",
      "one of the British Isles in the Irish Sea\n",
      "game equipment consisting of an object used in playing certain board games\n",
      "all of the living human inhabitants of the earth\n"
     ]
    }
   ],
   "source": [
    "#A)Read a word from user and print all meanings of it.\n",
    "\n",
    "import nltk\n",
    "from nltk.corpus import wordnet\n",
    "word = input(\"Enter a word: \")\n",
    "synsets = wordnet.synsets(word)\n",
    "for synset in synsets:\n",
    "    if synset.pos() == 'n':\n",
    "        print(synset.definition())\n",
    "    \n"
   ]
  },
  {
   "cell_type": "code",
   "execution_count": 3,
   "metadata": {},
   "outputs": [
    {
     "name": "stdout",
     "output_type": "stream",
     "text": [
      "Meaning of word ma are\n",
      "ma.n.01-->informal terms for a mother\n",
      "master_of_arts.n.01-->a master's degree in arts and sciences\n",
      "milliampere.n.01-->one thousandth of an ampere\n",
      "massachusetts.n.01-->a state in New England; one of the original 13 colonies\n"
     ]
    }
   ],
   "source": [
    "#B)Read a word from user and print all noun meanings\n",
    "word = input('Enter yhe word')\n",
    "print('Meaning of word', word, 'are')\n",
    "\n",
    "for word in wordnet.synsets(word, pos= 'n'):\n",
    "    print(word.name()+ \"-->\"  + word.definition())"
   ]
  },
  {
   "cell_type": "markdown",
   "metadata": {},
   "source": [
    "Q2."
   ]
  },
  {
   "cell_type": "code",
   "execution_count": 6,
   "metadata": {},
   "outputs": [
    {
     "data": {
      "image/svg+xml": [
       "<svg baseProfile=\"full\" height=\"120px\" preserveAspectRatio=\"xMidYMid meet\" style=\"font-family: times, serif; font-weight: normal; font-style: normal; font-size: 16px;\" version=\"1.1\" viewBox=\"0,0,520.0,120.0\" width=\"520px\" xmlns=\"http://www.w3.org/2000/svg\" xmlns:ev=\"http://www.w3.org/2001/xml-events\" xmlns:xlink=\"http://www.w3.org/1999/xlink\"><defs /><svg width=\"100%\" x=\"0\" y=\"0px\"><defs /><text text-anchor=\"middle\" x=\"50%\" y=\"16px\">S</text></svg><svg width=\"7.69231%\" x=\"0%\" y=\"48px\"><defs /><svg width=\"100%\" x=\"0\" y=\"0px\"><defs /><text text-anchor=\"middle\" x=\"50%\" y=\"16px\">It</text></svg><svg width=\"100%\" x=\"0%\" y=\"48px\"><defs /><svg width=\"100%\" x=\"0\" y=\"0px\"><defs /><text text-anchor=\"middle\" x=\"50%\" y=\"16px\">PRP</text></svg></svg><line stroke=\"black\" x1=\"50%\" x2=\"50%\" y1=\"19.2px\" y2=\"48px\" /></svg><line stroke=\"black\" x1=\"50%\" x2=\"3.84615%\" y1=\"19.2px\" y2=\"48px\" /><svg width=\"7.69231%\" x=\"7.69231%\" y=\"48px\"><defs /><svg width=\"100%\" x=\"0\" y=\"0px\"><defs /><text text-anchor=\"middle\" x=\"50%\" y=\"16px\">was</text></svg><svg width=\"100%\" x=\"0%\" y=\"48px\"><defs /><svg width=\"100%\" x=\"0\" y=\"0px\"><defs /><text text-anchor=\"middle\" x=\"50%\" y=\"16px\">VBD</text></svg></svg><line stroke=\"black\" x1=\"50%\" x2=\"50%\" y1=\"19.2px\" y2=\"48px\" /></svg><line stroke=\"black\" x1=\"50%\" x2=\"11.5385%\" y1=\"19.2px\" y2=\"48px\" /><svg width=\"6.15385%\" x=\"15.3846%\" y=\"48px\"><defs /><svg width=\"100%\" x=\"0\" y=\"0px\"><defs /><text text-anchor=\"middle\" x=\"50%\" y=\"16px\">a</text></svg><svg width=\"100%\" x=\"0%\" y=\"48px\"><defs /><svg width=\"100%\" x=\"0\" y=\"0px\"><defs /><text text-anchor=\"middle\" x=\"50%\" y=\"16px\">DT</text></svg></svg><line stroke=\"black\" x1=\"50%\" x2=\"50%\" y1=\"19.2px\" y2=\"48px\" /></svg><line stroke=\"black\" x1=\"50%\" x2=\"18.4615%\" y1=\"19.2px\" y2=\"48px\" /><svg width=\"16.9231%\" x=\"21.5385%\" y=\"48px\"><defs /><svg width=\"100%\" x=\"0\" y=\"0px\"><defs /><text text-anchor=\"middle\" x=\"50%\" y=\"16px\">beautiful</text></svg><svg width=\"100%\" x=\"0%\" y=\"48px\"><defs /><svg width=\"100%\" x=\"0\" y=\"0px\"><defs /><text text-anchor=\"middle\" x=\"50%\" y=\"16px\">JJ</text></svg></svg><line stroke=\"black\" x1=\"50%\" x2=\"50%\" y1=\"19.2px\" y2=\"48px\" /></svg><line stroke=\"black\" x1=\"50%\" x2=\"30%\" y1=\"19.2px\" y2=\"48px\" /><svg width=\"9.23077%\" x=\"38.4615%\" y=\"48px\"><defs /><svg width=\"100%\" x=\"0\" y=\"0px\"><defs /><text text-anchor=\"middle\" x=\"50%\" y=\"16px\">game</text></svg><svg width=\"100%\" x=\"0%\" y=\"48px\"><defs /><svg width=\"100%\" x=\"0\" y=\"0px\"><defs /><text text-anchor=\"middle\" x=\"50%\" y=\"16px\">NN</text></svg></svg><line stroke=\"black\" x1=\"50%\" x2=\"50%\" y1=\"19.2px\" y2=\"48px\" /></svg><line stroke=\"black\" x1=\"50%\" x2=\"43.0769%\" y1=\"19.2px\" y2=\"48px\" /><svg width=\"6.15385%\" x=\"47.6923%\" y=\"48px\"><defs /><svg width=\"100%\" x=\"0\" y=\"0px\"><defs /><text text-anchor=\"middle\" x=\"50%\" y=\"16px\">by</text></svg><svg width=\"100%\" x=\"0%\" y=\"48px\"><defs /><svg width=\"100%\" x=\"0\" y=\"0px\"><defs /><text text-anchor=\"middle\" x=\"50%\" y=\"16px\">IN</text></svg></svg><line stroke=\"black\" x1=\"50%\" x2=\"50%\" y1=\"19.2px\" y2=\"48px\" /></svg><line stroke=\"black\" x1=\"50%\" x2=\"50.7692%\" y1=\"19.2px\" y2=\"48px\" /><svg width=\"7.69231%\" x=\"53.8462%\" y=\"48px\"><defs /><svg width=\"100%\" x=\"0\" y=\"0px\"><defs /><text text-anchor=\"middle\" x=\"50%\" y=\"16px\">him</text></svg><svg width=\"100%\" x=\"0%\" y=\"48px\"><defs /><svg width=\"100%\" x=\"0\" y=\"0px\"><defs /><text text-anchor=\"middle\" x=\"50%\" y=\"16px\">PRP</text></svg></svg><line stroke=\"black\" x1=\"50%\" x2=\"50%\" y1=\"19.2px\" y2=\"48px\" /></svg><line stroke=\"black\" x1=\"50%\" x2=\"57.6923%\" y1=\"19.2px\" y2=\"48px\" /><svg width=\"4.61538%\" x=\"61.5385%\" y=\"48px\"><defs /><svg width=\"100%\" x=\"0\" y=\"0px\"><defs /><text text-anchor=\"middle\" x=\"50%\" y=\"16px\">.</text></svg><svg width=\"100%\" x=\"0%\" y=\"48px\"><defs /><svg width=\"100%\" x=\"0\" y=\"0px\"><defs /><text text-anchor=\"middle\" x=\"50%\" y=\"16px\">.</text></svg></svg><line stroke=\"black\" x1=\"50%\" x2=\"50%\" y1=\"19.2px\" y2=\"48px\" /></svg><line stroke=\"black\" x1=\"50%\" x2=\"63.8462%\" y1=\"19.2px\" y2=\"48px\" /><svg width=\"6.15385%\" x=\"66.1538%\" y=\"48px\"><defs /><svg width=\"100%\" x=\"0\" y=\"0px\"><defs /><text text-anchor=\"middle\" x=\"50%\" y=\"16px\">An</text></svg><svg width=\"100%\" x=\"0%\" y=\"48px\"><defs /><svg width=\"100%\" x=\"0\" y=\"0px\"><defs /><text text-anchor=\"middle\" x=\"50%\" y=\"16px\">DT</text></svg></svg><line stroke=\"black\" x1=\"50%\" x2=\"50%\" y1=\"19.2px\" y2=\"48px\" /></svg><line stroke=\"black\" x1=\"50%\" x2=\"69.2308%\" y1=\"19.2px\" y2=\"48px\" /><svg width=\"13.8462%\" x=\"72.3077%\" y=\"48px\"><defs /><svg width=\"100%\" x=\"0\" y=\"0px\"><defs /><text text-anchor=\"middle\" x=\"50%\" y=\"16px\">amazing</text></svg><svg width=\"100%\" x=\"0%\" y=\"48px\"><defs /><svg width=\"100%\" x=\"0\" y=\"0px\"><defs /><text text-anchor=\"middle\" x=\"50%\" y=\"16px\">JJ</text></svg></svg><line stroke=\"black\" x1=\"50%\" x2=\"50%\" y1=\"19.2px\" y2=\"48px\" /></svg><line stroke=\"black\" x1=\"50%\" x2=\"79.2308%\" y1=\"19.2px\" y2=\"48px\" /><svg width=\"9.23077%\" x=\"86.1538%\" y=\"48px\"><defs /><svg width=\"100%\" x=\"0\" y=\"0px\"><defs /><text text-anchor=\"middle\" x=\"50%\" y=\"16px\">play</text></svg><svg width=\"100%\" x=\"0%\" y=\"48px\"><defs /><svg width=\"100%\" x=\"0\" y=\"0px\"><defs /><text text-anchor=\"middle\" x=\"50%\" y=\"16px\">NN</text></svg></svg><line stroke=\"black\" x1=\"50%\" x2=\"50%\" y1=\"19.2px\" y2=\"48px\" /></svg><line stroke=\"black\" x1=\"50%\" x2=\"90.7692%\" y1=\"19.2px\" y2=\"48px\" /><svg width=\"4.61538%\" x=\"95.3846%\" y=\"48px\"><defs /><svg width=\"100%\" x=\"0\" y=\"0px\"><defs /><text text-anchor=\"middle\" x=\"50%\" y=\"16px\">.</text></svg><svg width=\"100%\" x=\"0%\" y=\"48px\"><defs /><svg width=\"100%\" x=\"0\" y=\"0px\"><defs /><text text-anchor=\"middle\" x=\"50%\" y=\"16px\">.</text></svg></svg><line stroke=\"black\" x1=\"50%\" x2=\"50%\" y1=\"19.2px\" y2=\"48px\" /></svg><line stroke=\"black\" x1=\"50%\" x2=\"97.6923%\" y1=\"19.2px\" y2=\"48px\" /></svg>"
      ],
      "text/plain": [
       "Tree('S', [('It', 'PRP'), ('was', 'VBD'), ('a', 'DT'), ('beautiful', 'JJ'), ('game', 'NN'), ('by', 'IN'), ('him', 'PRP'), ('.', '.'), ('An', 'DT'), ('amazing', 'JJ'), ('play', 'NN'), ('.', '.')])"
      ]
     },
     "execution_count": 6,
     "metadata": {},
     "output_type": "execute_result"
    }
   ],
   "source": [
    "# # Open the wikipedia page https://en.wikipedia.org/wiki/Maharashtra\n",
    "# 1. Apply chuncking and show the chunks of type <VBD><DT>\n",
    "### Import he neccessary \n",
    "from nltk.tokenize import word_tokenize\n",
    "from nltk import pos_tag,RegexpParser\n",
    "\n",
    "grammar  = \"NP:{<VBT><DT>}\"\n",
    "chunk_parser = RegexpParser(grammar)\n",
    "\n",
    "sent  =  \"It was a beautiful game by him. An amazing play.\"\n",
    "\n",
    "tags   =  pos_tag(word_tokenize(sent))\n",
    "tree =  chunk_parser.parse(tags)\n",
    "tree\n"
   ]
  },
  {
   "cell_type": "code",
   "execution_count": 7,
   "metadata": {},
   "outputs": [
    {
     "name": "stdout",
     "output_type": "stream",
     "text": [
      "Narayanaswami Srinivasan\n",
      "Zaheer Abbas,[8\n",
      "Mustafa Kamal\n",
      "Shashank Manohar\n"
     ]
    }
   ],
   "source": [
    "# 2. Find all the named entities present in article\n",
    "import spacy\n",
    "\n",
    "icc_text = '''The Chairman heads the board of directors and on June 26, 2014, Narayanaswami Srinivasan, the former president of BCCI, was announced as the first chairman of the council.[6] The role of ICC president became a largely honorary position after the establishment of the chairman role and other changes made to the ICC constitution in 2014. It has been claimed that the 2014 changes have handed control to the 'Big Three' nations of England, India and Australia.[7] The last ICC president was Zaheer Abbas,[8] who was appointed in June 2015 following the resignation of Mustafa Kamal in April 2015. When the post of ICC president was abolished in April 2016, Shashank Manohar, who replaced Srinivasan in October 2015, became the first independent elected chairman of the ICC.[9]\n",
    "\n",
    "'''\n",
    "nlp  = spacy.load('en_core_web_sm')\n",
    "sent_icc = nlp(icc_text)\n",
    "\n",
    "\n",
    "for  ent in sent_icc.ents:\n",
    "    if ent.label_ == 'PERSON':print(ent.text)"
   ]
  },
  {
   "cell_type": "code",
   "execution_count": 8,
   "metadata": {},
   "outputs": [
    {
     "data": {
      "text/html": [
       "<span class=\"tex2jax_ignore\"><div class=\"entities\" style=\"line-height: 2.5; direction: ltr\">The Chairman heads the board of directors and on \n",
       "<mark class=\"entity\" style=\"background: #bfe1d9; padding: 0.45em 0.6em; margin: 0 0.25em; line-height: 1; border-radius: 0.35em;\">\n",
       "    June 26, 2014\n",
       "    <span style=\"font-size: 0.8em; font-weight: bold; line-height: 1; border-radius: 0.35em; vertical-align: middle; margin-left: 0.5rem\">DATE</span>\n",
       "</mark>\n",
       ", \n",
       "<mark class=\"entity\" style=\"background: #aa9cfc; padding: 0.45em 0.6em; margin: 0 0.25em; line-height: 1; border-radius: 0.35em;\">\n",
       "    Narayanaswami Srinivasan\n",
       "    <span style=\"font-size: 0.8em; font-weight: bold; line-height: 1; border-radius: 0.35em; vertical-align: middle; margin-left: 0.5rem\">PERSON</span>\n",
       "</mark>\n",
       ", the former president of \n",
       "<mark class=\"entity\" style=\"background: #7aecec; padding: 0.45em 0.6em; margin: 0 0.25em; line-height: 1; border-radius: 0.35em;\">\n",
       "    BCCI\n",
       "    <span style=\"font-size: 0.8em; font-weight: bold; line-height: 1; border-radius: 0.35em; vertical-align: middle; margin-left: 0.5rem\">ORG</span>\n",
       "</mark>\n",
       ", was announced as the \n",
       "<mark class=\"entity\" style=\"background: #e4e7d2; padding: 0.45em 0.6em; margin: 0 0.25em; line-height: 1; border-radius: 0.35em;\">\n",
       "    first\n",
       "    <span style=\"font-size: 0.8em; font-weight: bold; line-height: 1; border-radius: 0.35em; vertical-align: middle; margin-left: 0.5rem\">ORDINAL</span>\n",
       "</mark>\n",
       " chairman of the council.[6] The role of \n",
       "<mark class=\"entity\" style=\"background: #7aecec; padding: 0.45em 0.6em; margin: 0 0.25em; line-height: 1; border-radius: 0.35em;\">\n",
       "    ICC\n",
       "    <span style=\"font-size: 0.8em; font-weight: bold; line-height: 1; border-radius: 0.35em; vertical-align: middle; margin-left: 0.5rem\">ORG</span>\n",
       "</mark>\n",
       " president became a largely honorary position after the establishment of the chairman role and other changes made to the \n",
       "<mark class=\"entity\" style=\"background: #7aecec; padding: 0.45em 0.6em; margin: 0 0.25em; line-height: 1; border-radius: 0.35em;\">\n",
       "    ICC\n",
       "    <span style=\"font-size: 0.8em; font-weight: bold; line-height: 1; border-radius: 0.35em; vertical-align: middle; margin-left: 0.5rem\">ORG</span>\n",
       "</mark>\n",
       " constitution in \n",
       "<mark class=\"entity\" style=\"background: #bfe1d9; padding: 0.45em 0.6em; margin: 0 0.25em; line-height: 1; border-radius: 0.35em;\">\n",
       "    2014\n",
       "    <span style=\"font-size: 0.8em; font-weight: bold; line-height: 1; border-radius: 0.35em; vertical-align: middle; margin-left: 0.5rem\">DATE</span>\n",
       "</mark>\n",
       ". It has been claimed that the \n",
       "<mark class=\"entity\" style=\"background: #bfe1d9; padding: 0.45em 0.6em; margin: 0 0.25em; line-height: 1; border-radius: 0.35em;\">\n",
       "    2014\n",
       "    <span style=\"font-size: 0.8em; font-weight: bold; line-height: 1; border-radius: 0.35em; vertical-align: middle; margin-left: 0.5rem\">DATE</span>\n",
       "</mark>\n",
       " changes have handed control to the 'Big Three' nations of \n",
       "<mark class=\"entity\" style=\"background: #feca74; padding: 0.45em 0.6em; margin: 0 0.25em; line-height: 1; border-radius: 0.35em;\">\n",
       "    England\n",
       "    <span style=\"font-size: 0.8em; font-weight: bold; line-height: 1; border-radius: 0.35em; vertical-align: middle; margin-left: 0.5rem\">GPE</span>\n",
       "</mark>\n",
       ", \n",
       "<mark class=\"entity\" style=\"background: #feca74; padding: 0.45em 0.6em; margin: 0 0.25em; line-height: 1; border-radius: 0.35em;\">\n",
       "    India\n",
       "    <span style=\"font-size: 0.8em; font-weight: bold; line-height: 1; border-radius: 0.35em; vertical-align: middle; margin-left: 0.5rem\">GPE</span>\n",
       "</mark>\n",
       " and Australia.[7] The last \n",
       "<mark class=\"entity\" style=\"background: #7aecec; padding: 0.45em 0.6em; margin: 0 0.25em; line-height: 1; border-radius: 0.35em;\">\n",
       "    ICC\n",
       "    <span style=\"font-size: 0.8em; font-weight: bold; line-height: 1; border-radius: 0.35em; vertical-align: middle; margin-left: 0.5rem\">ORG</span>\n",
       "</mark>\n",
       " president was \n",
       "<mark class=\"entity\" style=\"background: #aa9cfc; padding: 0.45em 0.6em; margin: 0 0.25em; line-height: 1; border-radius: 0.35em;\">\n",
       "    Zaheer Abbas,[8\n",
       "    <span style=\"font-size: 0.8em; font-weight: bold; line-height: 1; border-radius: 0.35em; vertical-align: middle; margin-left: 0.5rem\">PERSON</span>\n",
       "</mark>\n",
       "] who was appointed in \n",
       "<mark class=\"entity\" style=\"background: #bfe1d9; padding: 0.45em 0.6em; margin: 0 0.25em; line-height: 1; border-radius: 0.35em;\">\n",
       "    June 2015\n",
       "    <span style=\"font-size: 0.8em; font-weight: bold; line-height: 1; border-radius: 0.35em; vertical-align: middle; margin-left: 0.5rem\">DATE</span>\n",
       "</mark>\n",
       " following the resignation of \n",
       "<mark class=\"entity\" style=\"background: #aa9cfc; padding: 0.45em 0.6em; margin: 0 0.25em; line-height: 1; border-radius: 0.35em;\">\n",
       "    Mustafa Kamal\n",
       "    <span style=\"font-size: 0.8em; font-weight: bold; line-height: 1; border-radius: 0.35em; vertical-align: middle; margin-left: 0.5rem\">PERSON</span>\n",
       "</mark>\n",
       " in \n",
       "<mark class=\"entity\" style=\"background: #bfe1d9; padding: 0.45em 0.6em; margin: 0 0.25em; line-height: 1; border-radius: 0.35em;\">\n",
       "    April 2015\n",
       "    <span style=\"font-size: 0.8em; font-weight: bold; line-height: 1; border-radius: 0.35em; vertical-align: middle; margin-left: 0.5rem\">DATE</span>\n",
       "</mark>\n",
       ". When the post of \n",
       "<mark class=\"entity\" style=\"background: #7aecec; padding: 0.45em 0.6em; margin: 0 0.25em; line-height: 1; border-radius: 0.35em;\">\n",
       "    ICC\n",
       "    <span style=\"font-size: 0.8em; font-weight: bold; line-height: 1; border-radius: 0.35em; vertical-align: middle; margin-left: 0.5rem\">ORG</span>\n",
       "</mark>\n",
       " president was abolished in \n",
       "<mark class=\"entity\" style=\"background: #bfe1d9; padding: 0.45em 0.6em; margin: 0 0.25em; line-height: 1; border-radius: 0.35em;\">\n",
       "    April 2016\n",
       "    <span style=\"font-size: 0.8em; font-weight: bold; line-height: 1; border-radius: 0.35em; vertical-align: middle; margin-left: 0.5rem\">DATE</span>\n",
       "</mark>\n",
       ", \n",
       "<mark class=\"entity\" style=\"background: #aa9cfc; padding: 0.45em 0.6em; margin: 0 0.25em; line-height: 1; border-radius: 0.35em;\">\n",
       "    Shashank Manohar\n",
       "    <span style=\"font-size: 0.8em; font-weight: bold; line-height: 1; border-radius: 0.35em; vertical-align: middle; margin-left: 0.5rem\">PERSON</span>\n",
       "</mark>\n",
       ", who replaced \n",
       "<mark class=\"entity\" style=\"background: #7aecec; padding: 0.45em 0.6em; margin: 0 0.25em; line-height: 1; border-radius: 0.35em;\">\n",
       "    Srinivasan\n",
       "    <span style=\"font-size: 0.8em; font-weight: bold; line-height: 1; border-radius: 0.35em; vertical-align: middle; margin-left: 0.5rem\">ORG</span>\n",
       "</mark>\n",
       " in \n",
       "<mark class=\"entity\" style=\"background: #bfe1d9; padding: 0.45em 0.6em; margin: 0 0.25em; line-height: 1; border-radius: 0.35em;\">\n",
       "    October 2015\n",
       "    <span style=\"font-size: 0.8em; font-weight: bold; line-height: 1; border-radius: 0.35em; vertical-align: middle; margin-left: 0.5rem\">DATE</span>\n",
       "</mark>\n",
       ", became the \n",
       "<mark class=\"entity\" style=\"background: #e4e7d2; padding: 0.45em 0.6em; margin: 0 0.25em; line-height: 1; border-radius: 0.35em;\">\n",
       "    first\n",
       "    <span style=\"font-size: 0.8em; font-weight: bold; line-height: 1; border-radius: 0.35em; vertical-align: middle; margin-left: 0.5rem\">ORDINAL</span>\n",
       "</mark>\n",
       " independent elected chairman of the \n",
       "<mark class=\"entity\" style=\"background: #7aecec; padding: 0.45em 0.6em; margin: 0 0.25em; line-height: 1; border-radius: 0.35em;\">\n",
       "    ICC.[9\n",
       "    <span style=\"font-size: 0.8em; font-weight: bold; line-height: 1; border-radius: 0.35em; vertical-align: middle; margin-left: 0.5rem\">ORG</span>\n",
       "</mark>\n",
       "]<br><br></div></span>"
      ],
      "text/plain": [
       "<IPython.core.display.HTML object>"
      ]
     },
     "metadata": {},
     "output_type": "display_data"
    }
   ],
   "source": [
    "from spacy import displacy\n",
    "displacy.render(sent_icc, style=\"ent\", jupyter=True)"
   ]
  },
  {
   "cell_type": "code",
   "execution_count": 33,
   "metadata": {},
   "outputs": [
    {
     "name": "stdout",
     "output_type": "stream",
     "text": [
      "********** Portate Stammer *************\n",
      "heads --> head\n",
      "was --> wa\n",
      "announced --> announc\n",
      "became --> becam\n",
      "made --> made\n",
      "has --> ha\n",
      "been --> been\n",
      "claimed --> claim\n",
      "have --> have\n",
      "handed --> hand\n",
      "was --> wa\n",
      "was --> wa\n",
      "appointed --> appoint\n",
      "following --> follow\n",
      "was --> wa\n",
      "abolished --> abolish\n",
      "replaced --> replac\n",
      "became --> becam\n",
      "elected --> elect\n",
      "********** lancaster Stammer *************\n",
      "heads --> head\n",
      "was --> was\n",
      "announced --> annount\n",
      "became --> becam\n",
      "made --> mad\n",
      "has --> has\n",
      "been --> been\n",
      "claimed --> claim\n",
      "have --> hav\n",
      "handed --> hand\n",
      "was --> was\n",
      "was --> was\n",
      "appointed --> appoint\n",
      "following --> follow\n",
      "was --> was\n",
      "abolished --> abol\n",
      "replaced --> replac\n",
      "became --> becam\n",
      "elected --> elect\n"
     ]
    }
   ],
   "source": [
    "# 3. Access all the verbs and apply the porter stemmer and lancaster stemmer\n",
    "import nltk\n",
    "from nltk.stem import PorterStemmer\n",
    "from nltk.stem import LancasterStemmer\n",
    "from nltk import pos_tag\n",
    "from nltk.tokenize import word_tokenize\n",
    "\n",
    "\n",
    "ps = PorterStemmer()\n",
    "Ls = LancasterStemmer()\n",
    "\n",
    "text = '''The Chairman heads the board of directors and on June 26, 2014, Narayanaswami Srinivasan, the former president of BCCI, was announced as the first chairman of the council.[6] The role of ICC president became a largely honorary position after the establishment of the chairman role and other changes made to the ICC constitution in 2014. It has been claimed that the 2014 changes have handed control to the 'Big Three' nations of England, India and Australia.[7] The last ICC president was Zaheer Abbas,[8] who was appointed in June 2015 following the resignation of Mustafa Kamal in April 2015. When the post of ICC president was abolished in April 2016, Shashank Manohar, who replaced Srinivasan in October 2015, became the first independent elected chairman of the ICC.[9]\n",
    "\n",
    "'''\n",
    "tags = pos_tag(word_tokenize(text))\n",
    "\n",
    "\n",
    "## Print only noun\n",
    "verbs = [word for word, pos in tags if 'VB' in pos and word.isalnum()]\n",
    "#print(verbs)\n",
    "\n",
    "# applying the porter stemmer.\n",
    "from nltk.tokenize import word_tokenize\n",
    "\n",
    "print(\"********** Portate Stammer *************\")\n",
    "lst = []\n",
    "for word in verbs:\n",
    "    print(word , '-->', ps.stem(word))\n",
    "\n",
    "\n",
    "print(\"********** lancaster Stammer *************\")\n",
    "lst = []\n",
    "for word in verbs:\n",
    "    print(word , '-->', Ls.stem(word))\n",
    "\n",
    "\n"
   ]
  },
  {
   "cell_type": "code",
   "execution_count": 36,
   "metadata": {},
   "outputs": [
    {
     "name": "stderr",
     "output_type": "stream",
     "text": [
      "[nltk_data] Downloading package verbnet to C:\\Users\\Administrator.DAI-\n",
      "[nltk_data]     PC2\\AppData\\Roaming\\nltk_data...\n",
      "[nltk_data]   Unzipping corpora\\verbnet.zip.\n"
     ]
    },
    {
     "data": {
      "text/plain": [
       "True"
      ]
     },
     "execution_count": 36,
     "metadata": {},
     "output_type": "execute_result"
    }
   ],
   "source": [
    "import nltk\n",
    "nltk.download('verbnet')"
   ]
  },
  {
   "cell_type": "code",
   "execution_count": 45,
   "metadata": {},
   "outputs": [
    {
     "name": "stdout",
     "output_type": "stream",
     "text": [
      "announced --> announced\n",
      "claimed --> claimed\n",
      "handed --> handed\n",
      "appointed --> appointed\n",
      "abolished --> abolished\n",
      "replaced --> replaced\n",
      "elected --> elected\n"
     ]
    }
   ],
   "source": [
    "# 4. Access all the verbs in past tense and lemmatize them. Show only unique verbs.\n",
    "\n",
    "from nltk.tokenize import word_tokenize\n",
    "from nltk.corpus import verbnet\n",
    "from nltk.stem import WordNetLemmatizer\n",
    "\n",
    "def find_past_tense_verbs(text):\n",
    "  \n",
    "  words = word_tokenize(text.lower())\n",
    "  unique_past_verbs = set()\n",
    "  tags = pos_tag(word_tokenize(text))\n",
    "  verbs = [word for word, pos in tags if 'VB' in pos and word.isalnum()]\n",
    "  # Create a lemmatizer\n",
    "  lemmatizer = WordNetLemmatizer()\n",
    "\n",
    "  for word in verbs:\n",
    "    if word.endswith('ed'):\n",
    "      print(word , '-->', lemmatizer.lemmatize(word))\n",
    "\n",
    "\n",
    "past_verbs = find_past_tense_verbs(text)\n",
    "\n",
    "\n"
   ]
  },
  {
   "cell_type": "code",
   "execution_count": 59,
   "metadata": {},
   "outputs": [
    {
     "name": "stdout",
     "output_type": "stream",
     "text": [
      "['former', 'first', 'honorary', 'other', 'last', 'first', 'independent']\n",
      "Synset('former.n.01') '-->' former\n",
      "Synset('former.a.01') '-->' former\n",
      "Synset('erstwhile.s.01') '-->' erstwhile\n",
      "Synset('former.s.03') '-->' former\n",
      "Synset('early.s.03') '-->' early\n",
      "Synset('first.n.01') '-->' first\n",
      "Synset('first.n.02') '-->' first\n",
      "Synset('beginning.n.02') '-->' beginning\n",
      "Synset('first_base.n.02') '-->' first_base\n",
      "Synset('first.n.05') '-->' first\n",
      "Synset('first_gear.n.01') '-->' first_gear\n",
      "Synset('first.a.01') '-->' first\n",
      "Synset('first.s.02') '-->' first\n",
      "Synset('inaugural.s.02') '-->' inaugural\n",
      "Synset('beginning.s.01') '-->' beginning\n",
      "Synset('first.s.05') '-->' first\n",
      "Synset('first.a.06') '-->' first\n",
      "Synset('first.r.01') '-->' first\n",
      "Synset('first.r.02') '-->' first\n",
      "Synset('first.r.03') '-->' first\n",
      "Synset('foremost.r.01') '-->' foremost\n",
      "Synset('honorary.s.01') '-->' honorary\n",
      "Synset('other.a.01') '-->' other\n",
      "Synset('other.s.02') '-->' other\n",
      "Synset('early.s.03') '-->' early\n",
      "Synset('other.s.04') '-->' other\n",
      "Synset('stopping_point.n.01') '-->' stopping_point\n",
      "Synset('last.n.02') '-->' last\n",
      "Synset('last.n.03') '-->' last\n",
      "Synset('death.n.05') '-->' death\n",
      "Synset('last.n.05') '-->' last\n",
      "Synset('last.n.06') '-->' last\n",
      "Synset('end.n.03') '-->' end\n",
      "Synset('last.n.08') '-->' last\n",
      "Synset('last.v.01') '-->' last\n",
      "Synset('survive.v.01') '-->' survive\n",
      "Synset('last.s.01') '-->' last\n",
      "Synset('last.a.02') '-->' last\n",
      "Synset('concluding.s.01') '-->' concluding\n",
      "Synset('last.s.04') '-->' last\n",
      "Synset('last.s.05') '-->' last\n",
      "Synset('final.s.02') '-->' final\n",
      "Synset('last.s.07') '-->' last\n",
      "Synset('final.s.03') '-->' final\n",
      "Synset('last.s.09') '-->' last\n",
      "Synset('last.r.01') '-->' last\n",
      "Synset('last.r.02') '-->' last\n",
      "Synset('first.n.01') '-->' first\n",
      "Synset('first.n.02') '-->' first\n",
      "Synset('beginning.n.02') '-->' beginning\n",
      "Synset('first_base.n.02') '-->' first_base\n",
      "Synset('first.n.05') '-->' first\n",
      "Synset('first_gear.n.01') '-->' first_gear\n",
      "Synset('first.a.01') '-->' first\n",
      "Synset('first.s.02') '-->' first\n",
      "Synset('inaugural.s.02') '-->' inaugural\n",
      "Synset('beginning.s.01') '-->' beginning\n",
      "Synset('first.s.05') '-->' first\n",
      "Synset('first.a.06') '-->' first\n",
      "Synset('first.r.01') '-->' first\n",
      "Synset('first.r.02') '-->' first\n",
      "Synset('first.r.03') '-->' first\n",
      "Synset('foremost.r.01') '-->' foremost\n",
      "Synset('mugwump.n.02') '-->' mugwump\n",
      "Synset('freelancer.n.01') '-->' freelancer\n",
      "Synset('independent.a.01') '-->' independent\n",
      "Synset('autonomous.s.01') '-->' autonomous\n",
      "Synset('independent.a.03') '-->' independent\n",
      "Synset('independent.s.04') '-->' independent\n"
     ]
    }
   ],
   "source": [
    "# 5. Read only the adjectives from the text and find their synonyms.\n",
    "\n",
    "tags = pos_tag(word_tokenize(text))\n",
    "\n",
    "\n",
    "## Print only noun\n",
    "ajective = [word for word, pos in tags if 'JJ' in pos and word.isalnum()]\n",
    "print(ajective)\n",
    "\n",
    "for word in ajective:\n",
    "    for word in wordnet.synsets(word):\n",
    "        print(f\"{word} '-->' {word.lemmas()[0].name()}\")\n"
   ]
  },
  {
   "cell_type": "code",
   "execution_count": 61,
   "metadata": {},
   "outputs": [
    {
     "name": "stdout",
     "output_type": "stream",
     "text": [
      "['former', 'first', 'honorary', 'other', 'last', 'first', 'independent']\n",
      "Synset('former.n.01') '-->' former\n",
      "Synset('former.a.01') '-->' former\n",
      "Synset('erstwhile.s.01') '-->' erstwhile\n",
      "Synset('former.s.03') '-->' former\n",
      "Synset('early.s.03') '-->' early\n",
      "Synset('first.n.01') '-->' first\n",
      "Synset('first.n.02') '-->' first\n",
      "Synset('beginning.n.02') '-->' beginning\n",
      "Synset('first_base.n.02') '-->' first_base\n",
      "Synset('first.n.05') '-->' first\n",
      "Synset('first_gear.n.01') '-->' first_gear\n",
      "Synset('first.a.01') '-->' first\n",
      "Synset('first.s.02') '-->' first\n",
      "Synset('inaugural.s.02') '-->' inaugural\n",
      "Synset('beginning.s.01') '-->' beginning\n",
      "Synset('first.s.05') '-->' first\n",
      "Synset('first.a.06') '-->' first\n",
      "Synset('first.r.01') '-->' first\n",
      "Synset('first.r.02') '-->' first\n",
      "Synset('first.r.03') '-->' first\n",
      "Synset('foremost.r.01') '-->' foremost\n",
      "Synset('honorary.s.01') '-->' honorary\n",
      "Synset('other.a.01') '-->' other\n",
      "Synset('other.s.02') '-->' other\n",
      "Synset('early.s.03') '-->' early\n",
      "Synset('other.s.04') '-->' other\n",
      "Synset('stopping_point.n.01') '-->' stopping_point\n",
      "Synset('last.n.02') '-->' last\n",
      "Synset('last.n.03') '-->' last\n",
      "Synset('death.n.05') '-->' death\n",
      "Synset('last.n.05') '-->' last\n",
      "Synset('last.n.06') '-->' last\n",
      "Synset('end.n.03') '-->' end\n",
      "Synset('last.n.08') '-->' last\n",
      "Synset('last.v.01') '-->' last\n",
      "Synset('survive.v.01') '-->' survive\n",
      "Synset('last.s.01') '-->' last\n",
      "Synset('last.a.02') '-->' last\n",
      "Synset('concluding.s.01') '-->' concluding\n",
      "Synset('last.s.04') '-->' last\n",
      "Synset('last.s.05') '-->' last\n",
      "Synset('final.s.02') '-->' final\n",
      "Synset('last.s.07') '-->' last\n",
      "Synset('final.s.03') '-->' final\n",
      "Synset('last.s.09') '-->' last\n",
      "Synset('last.r.01') '-->' last\n",
      "Synset('last.r.02') '-->' last\n",
      "Synset('first.n.01') '-->' first\n",
      "Synset('first.n.02') '-->' first\n",
      "Synset('beginning.n.02') '-->' beginning\n",
      "Synset('first_base.n.02') '-->' first_base\n",
      "Synset('first.n.05') '-->' first\n",
      "Synset('first_gear.n.01') '-->' first_gear\n",
      "Synset('first.a.01') '-->' first\n",
      "Synset('first.s.02') '-->' first\n",
      "Synset('inaugural.s.02') '-->' inaugural\n",
      "Synset('beginning.s.01') '-->' beginning\n",
      "Synset('first.s.05') '-->' first\n",
      "Synset('first.a.06') '-->' first\n",
      "Synset('first.r.01') '-->' first\n",
      "Synset('first.r.02') '-->' first\n",
      "Synset('first.r.03') '-->' first\n",
      "Synset('foremost.r.01') '-->' foremost\n",
      "Synset('mugwump.n.02') '-->' mugwump\n",
      "Synset('freelancer.n.01') '-->' freelancer\n",
      "Synset('independent.a.01') '-->' independent\n",
      "Synset('autonomous.s.01') '-->' autonomous\n",
      "Synset('independent.a.03') '-->' independent\n",
      "Synset('independent.s.04') '-->' independent\n"
     ]
    }
   ],
   "source": [
    "# 6. Read all the verbs and print their antonyms.\n",
    "tags = pos_tag(word_tokenize(text))\n",
    "\n",
    "\n",
    "## Print only noun\n",
    "verb = [word for word, pos in tags if 'VB' in pos and word.isalnum()]\n",
    "print(ajective)\n",
    "\n",
    "for word in ajective:\n",
    "    for word in wordnet.synsets(word):\n",
    "        print(f\"{word} '-->' {word.lemmas()[0].name()}\")"
   ]
  },
  {
   "cell_type": "code",
   "execution_count": 64,
   "metadata": {},
   "outputs": [
    {
     "name": "stdout",
     "output_type": "stream",
     "text": [
      "June 26, 2014\n",
      "2014\n",
      "2014\n",
      "June 2015\n",
      "April 2015\n",
      "April 2016\n",
      "October 2015\n"
     ]
    }
   ],
   "source": [
    "# 7. Print all the entities marked as DATE and TIME in the data\n",
    "for  ent in sent_icc.ents:\n",
    "    if ent.label_ == 'DATE':\n",
    "        print(ent.text)\n",
    "\n"
   ]
  },
  {
   "cell_type": "code",
   "execution_count": 65,
   "metadata": {},
   "outputs": [
    {
     "name": "stdout",
     "output_type": "stream",
     "text": [
      "England\n",
      "India\n"
     ]
    }
   ],
   "source": [
    "# 8. Print all the named of locations present in the article.\n",
    "\n",
    "for  ent in sent_icc.ents:\n",
    "    if ent.label_ == 'GPE':\n",
    "        print(ent.text)"
   ]
  },
  {
   "cell_type": "code",
   "execution_count": null,
   "metadata": {},
   "outputs": [],
   "source": []
  }
 ],
 "metadata": {
  "kernelspec": {
   "display_name": "base",
   "language": "python",
   "name": "python3"
  },
  "language_info": {
   "codemirror_mode": {
    "name": "ipython",
    "version": 3
   },
   "file_extension": ".py",
   "mimetype": "text/x-python",
   "name": "python",
   "nbconvert_exporter": "python",
   "pygments_lexer": "ipython3",
   "version": "3.11.7"
  }
 },
 "nbformat": 4,
 "nbformat_minor": 2
}
