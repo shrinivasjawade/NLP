{
 "cells": [
  {
   "cell_type": "code",
   "execution_count": null,
   "metadata": {},
   "outputs": [],
   "source": [
    "# Q1"
   ]
  },
  {
   "cell_type": "code",
   "execution_count": 3,
   "metadata": {},
   "outputs": [
    {
     "name": "stdout",
     "output_type": "stream",
     "text": [
      "Collecting pyproject\n",
      "  Downloading pyproject-1.3.1.tar.gz (7.9 kB)\n",
      "  Preparing metadata (setup.py): started\n",
      "  Preparing metadata (setup.py): finished with status 'done'\n",
      "Requirement already satisfied: Jinja2 in c:\\users\\administrator.dai-pc2\\anaconda3\\lib\\site-packages (from pyproject) (3.1.3)\n",
      "Requirement already satisfied: MarkupSafe>=2.0 in c:\\users\\administrator.dai-pc2\\anaconda3\\lib\\site-packages (from Jinja2->pyproject) (2.1.3)\n",
      "Building wheels for collected packages: pyproject\n",
      "  Building wheel for pyproject (setup.py): started\n",
      "  Building wheel for pyproject (setup.py): finished with status 'done'\n",
      "  Created wheel for pyproject: filename=pyproject-1.3.1-py3-none-any.whl size=11004 sha256=f90616df4c86ca00441b85248a2c612485e4d0f558cabf33b9c07ffb97f32f47\n",
      "  Stored in directory: c:\\users\\administrator.dai-pc2\\appdata\\local\\pip\\cache\\wheels\\49\\aa\\0a\\7d523f715bad8c2fa31a4418828706fa516810791845f287c4\n",
      "Successfully built pyproject\n",
      "Installing collected packages: pyproject\n",
      "Successfully installed pyproject-1.3.1\n",
      "Requirement already satisfied: sumy in c:\\users\\administrator.dai-pc2\\anaconda3\\lib\\site-packages (0.11.0)\n",
      "Requirement already satisfied: docopt<0.7,>=0.6.1 in c:\\users\\administrator.dai-pc2\\anaconda3\\lib\\site-packages (from sumy) (0.6.2)\n",
      "Requirement already satisfied: breadability>=0.1.20 in c:\\users\\administrator.dai-pc2\\anaconda3\\lib\\site-packages (from sumy) (0.1.20)\n",
      "Requirement already satisfied: requests>=2.7.0 in c:\\users\\administrator.dai-pc2\\anaconda3\\lib\\site-packages (from sumy) (2.31.0)\n",
      "Requirement already satisfied: pycountry>=18.2.23 in c:\\users\\administrator.dai-pc2\\anaconda3\\lib\\site-packages (from sumy) (24.6.1)\n",
      "Requirement already satisfied: nltk>=3.0.2 in c:\\users\\administrator.dai-pc2\\anaconda3\\lib\\site-packages (from sumy) (3.8.1)\n",
      "Requirement already satisfied: chardet in c:\\users\\administrator.dai-pc2\\anaconda3\\lib\\site-packages (from breadability>=0.1.20->sumy) (4.0.0)\n",
      "Requirement already satisfied: lxml>=2.0 in c:\\users\\administrator.dai-pc2\\anaconda3\\lib\\site-packages (from breadability>=0.1.20->sumy) (4.9.3)\n",
      "Requirement already satisfied: click in c:\\users\\administrator.dai-pc2\\anaconda3\\lib\\site-packages (from nltk>=3.0.2->sumy) (8.1.7)\n",
      "Requirement already satisfied: joblib in c:\\users\\administrator.dai-pc2\\anaconda3\\lib\\site-packages (from nltk>=3.0.2->sumy) (1.2.0)\n",
      "Requirement already satisfied: regex>=2021.8.3 in c:\\users\\administrator.dai-pc2\\anaconda3\\lib\\site-packages (from nltk>=3.0.2->sumy) (2023.10.3)\n",
      "Requirement already satisfied: tqdm in c:\\users\\administrator.dai-pc2\\anaconda3\\lib\\site-packages (from nltk>=3.0.2->sumy) (4.66.4)\n",
      "Requirement already satisfied: charset-normalizer<4,>=2 in c:\\users\\administrator.dai-pc2\\anaconda3\\lib\\site-packages (from requests>=2.7.0->sumy) (2.0.4)\n",
      "Requirement already satisfied: idna<4,>=2.5 in c:\\users\\administrator.dai-pc2\\anaconda3\\lib\\site-packages (from requests>=2.7.0->sumy) (3.4)\n",
      "Requirement already satisfied: urllib3<3,>=1.21.1 in c:\\users\\administrator.dai-pc2\\anaconda3\\lib\\site-packages (from requests>=2.7.0->sumy) (2.0.7)\n",
      "Requirement already satisfied: certifi>=2017.4.17 in c:\\users\\administrator.dai-pc2\\anaconda3\\lib\\site-packages (from requests>=2.7.0->sumy) (2024.2.2)\n",
      "Requirement already satisfied: colorama in c:\\users\\administrator.dai-pc2\\anaconda3\\lib\\site-packages (from click->nltk>=3.0.2->sumy) (0.4.6)\n",
      "Requirement already satisfied: nltk in c:\\users\\administrator.dai-pc2\\anaconda3\\lib\\site-packages (3.8.1)\n",
      "Requirement already satisfied: click in c:\\users\\administrator.dai-pc2\\anaconda3\\lib\\site-packages (from nltk) (8.1.7)\n",
      "Requirement already satisfied: joblib in c:\\users\\administrator.dai-pc2\\anaconda3\\lib\\site-packages (from nltk) (1.2.0)\n",
      "Requirement already satisfied: regex>=2021.8.3 in c:\\users\\administrator.dai-pc2\\anaconda3\\lib\\site-packages (from nltk) (2023.10.3)\n",
      "Requirement already satisfied: tqdm in c:\\users\\administrator.dai-pc2\\anaconda3\\lib\\site-packages (from nltk) (4.66.4)\n",
      "Requirement already satisfied: colorama in c:\\users\\administrator.dai-pc2\\anaconda3\\lib\\site-packages (from click->nltk) (0.4.6)\n"
     ]
    },
    {
     "name": "stderr",
     "output_type": "stream",
     "text": [
      "[nltk_data] Downloading package punkt to C:\\Users\\Administrator.DAI-\n",
      "[nltk_data]     PC2\\AppData\\Roaming\\nltk_data...\n",
      "[nltk_data]   Package punkt is already up-to-date!\n"
     ]
    },
    {
     "name": "stdout",
     "output_type": "stream",
     "text": [
      "TextRank Summary:\n",
      "Sri Vikrama Rajasinha of Kandy, the last ruling native Sri Lankan monarchDuring the Napoleonic Wars, fearing that French control of the Netherlands might deliver Sri Lanka to the French, the British Empire occupied the coastal areas of the island (which they called the colony of British Ceylon) with little difficulty in 1796.\n",
      "Buddhism is the largest and is considered as an \" Official religion\" of Sri Lanka under Chapter II, Article 9, \"The Republic of Sri Lanka shall give to Buddhism the foremost place and accordingly it shall be the duty of the State to protect and foster the Buddha Sasana\".\n",
      "[IMF] completed the first review of Sri Lanka's economic performance under the program supported by a three-year extended arrangement under the Extended Fund Facility (EFF) arrangement.^\"Sri Lanka : 2018 Article IV Consultation and the Fourth Review Under the Extended Arrangement Under the Extended Fund Facility-Press Release; Staff Report; and Statement by the Executive Director for Sri Lanka\".\n",
      "\n",
      "LexRank Summary:\n",
      "[397] and 2022.\n",
      "Sri Lanka.\n",
      "\"Sri Lanka\".\n"
     ]
    }
   ],
   "source": [
    "!pip install pyproject\n",
    "!pip install sumy\n",
    "!pip install nltk\n",
    "\n",
    "import nltk\n",
    "nltk.download('punkt')\n",
    "from sumy.parsers.html import HtmlParser\n",
    "from sumy.parsers.plaintext import PlaintextParser\n",
    "from sumy.nlp.tokenizers import Tokenizer\n",
    "from sumy.summarizers.text_rank import TextRankSummarizer\n",
    "from sumy.summarizers.lex_rank import LexRankSummarizer\n",
    "from sumy.summarizers.lsa import LsaSummarizer\n",
    "\n",
    "# Download the data from the link\n",
    "url = 'https://en.wikipedia.org/wiki/Sri_Lanka'\n",
    "parser = HtmlParser.from_url(url, Tokenizer(\"english\"))\n",
    "\n",
    "# Summarize the text using TextRank\n",
    "text_rank_summarizer = TextRankSummarizer()\n",
    "text_rank_summary = text_rank_summarizer(parser.document, sentences_count=3)\n",
    "print(\"TextRank Summary:\")\n",
    "for sentence in text_rank_summary:\n",
    "  print(sentence)\n",
    "\n",
    "# Summarize the text using LexRank\n",
    "lex_rank_summarizer = LexRankSummarizer()\n",
    "lex_rank_summary = lex_rank_summarizer(parser.document, sentences_count=3)\n",
    "print(\"\\nLexRank Summary:\")\n",
    "for sentence in lex_rank_summary:\n",
    "  print(sentence)\n",
    "\n",
    "# Summarize the text using LSA\n",
    "lsa_summarizer = LsaSummarizer()\n",
    "lsa_summary = lsa_summarizer(parser.document, sentences_count=3)\n",
    "print(\"\\nLSA Summary:\")\n",
    "for sentence in lsa_summary:\n",
    "  print(sentence)\n",
    "\n",
    "# Print the summaries\n",
    "print(\"TextRank Summary:\")\n",
    "print(text_rank_summary)\n",
    "\n",
    "print(\"\\nLexRank Summary:\")\n",
    "print(lex_rank_summary)\n",
    "\n",
    "print(\"\\nLSA Summary:\")\n",
    "print(lsa_summary)\n"
   ]
  },
  {
   "cell_type": "code",
   "execution_count": null,
   "metadata": {},
   "outputs": [],
   "source": [
    "# Q2"
   ]
  },
  {
   "cell_type": "code",
   "execution_count": null,
   "metadata": {},
   "outputs": [],
   "source": []
  },
  {
   "cell_type": "code",
   "execution_count": null,
   "metadata": {},
   "outputs": [],
   "source": [
    "# Q3"
   ]
  },
  {
   "cell_type": "code",
   "execution_count": null,
   "metadata": {},
   "outputs": [],
   "source": []
  },
  {
   "cell_type": "code",
   "execution_count": 1,
   "metadata": {},
   "outputs": [],
   "source": [
    "# Q4"
   ]
  },
  {
   "cell_type": "code",
   "execution_count": null,
   "metadata": {},
   "outputs": [],
   "source": [
    "import nltk\n",
    "from nltk.corpus import wordnet\n",
    "\n",
    "# Download the WordNet corpus\n",
    "nltk.download('wordnet')\n",
    "\n",
    "# 1. \"He used the key to unlock the door.\"\n",
    "# \"The answer to the problem lies in the key details.\"\n",
    "key1 = wordnet.synsets('key')[0]\n",
    "key2 = wordnet.synsets('key')[3]\n",
    "\n",
    "print(\"Key 1:\", key1.definition())\n",
    "print(\"Key 2:\", key2.definition())\n",
    "\n",
    "# 2. The weight is measured on a scale weighing instrument.\n",
    "# The project is too large in scale for one person.\n",
    "scale1 = wordnet.synsets('scale')[0]\n",
    "scale2 = wordnet.synsets('scale')[4]\n",
    "\n",
    "print(\"Scale 1:\", scale1.definition())\n",
    "print(\"Scale 2:\", scale2.definition())\n",
    "\n",
    "# 3. \"The knife has a very sharp blade.\"\n",
    "# \"His mind was always sharp and quick.\"\n",
    "sharp1 = wordnet.synsets('sharp')[0]\n",
    "sharp2 = wordnet.synsets('sharp')[2]\n",
    "\n",
    "print(\"Sharp 1:\", sharp1.definition())\n",
    "print(\"Sharp 2:\", sharp2.definition())"
   ]
  },
  {
   "cell_type": "code",
   "execution_count": 2,
   "metadata": {},
   "outputs": [],
   "source": [
    "# Q5"
   ]
  },
  {
   "cell_type": "code",
   "execution_count": null,
   "metadata": {},
   "outputs": [],
   "source": [
    "# prompt: Use following sentences to find the bag of words using count vectorizer.\n",
    "# 1. The postman delivered the package to the wrong address.\n",
    "# 2. I wrapped a beautiful present for my friend's birthday.\n",
    "# 3. The delivery truck arrived late due to heavy traffic.\n",
    "# 4. We need to check the shipping address before sending the order.\n",
    "# 5. Online shopping offers a wide variety of products with fast delivery.\n",
    "\n",
    "from sklearn.feature_extraction.text import CountVectorizer\n",
    "\n",
    "# Create a list of sentences\n",
    "sentences = [\n",
    "    \"The postman delivered the package to the wrong address.\",\n",
    "    \"I wrapped a beautiful present for my friend's birthday.\",\n",
    "    \"The delivery truck arrived late due to heavy traffic.\",\n",
    "    \"We need to check the shipping address before sending the order.\",\n",
    "    \"Online shopping offers a wide variety of products with fast delivery.\"\n",
    "]\n",
    "\n",
    "# Create a CountVectorizer object\n",
    "vectorizer = CountVectorizer()\n",
    "\n",
    "# Fit the vectorizer to the sentences\n",
    "vectorizer.fit(sentences)\n",
    "\n",
    "# Create a bag of words for each sentence\n",
    "bag_of_words = vectorizer.transform(sentences)\n",
    "\n",
    "# Print the bag of words for each sentence\n",
    "for sentence, bag in zip(sentences, bag_of_words.toarray()):\n",
    "    print(f\"Sentence: {sentence}\")\n",
    "    print(f\"Bag of words: {bag}\")\n"
   ]
  }
 ],
 "metadata": {
  "kernelspec": {
   "display_name": "base",
   "language": "python",
   "name": "python3"
  },
  "language_info": {
   "codemirror_mode": {
    "name": "ipython",
    "version": 3
   },
   "file_extension": ".py",
   "mimetype": "text/x-python",
   "name": "python",
   "nbconvert_exporter": "python",
   "pygments_lexer": "ipython3",
   "version": "3.11.7"
  }
 },
 "nbformat": 4,
 "nbformat_minor": 2
}
