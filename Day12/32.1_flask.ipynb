{
 "cells": [
  {
   "cell_type": "code",
   "execution_count": null,
   "metadata": {},
   "outputs": [],
   "source": [
    "# from flask import Flask \n",
    "# app =  Flask(__name__)\n",
    "# @app.route('/')\n",
    "# def hello_world():\n",
    "#     return (\"welcome to flask Application\")\n",
    "\n",
    "# @app.route('/hello')\n",
    "# def hello():\n",
    "#     return ('Hello World')\n",
    "\n",
    "# @app.route('/welcome')\n",
    "# def welcome():\n",
    "#     return ('this is welcome page')\n",
    " \n",
    "\n",
    "# if __name__  == '__main__':\n",
    "#     app.run(debug =  True)## when we add debug  = true   then there is no need to rerun the code again ,just save it and refresh the page  and it will replicate update\n"
   ]
  },
  {
   "cell_type": "code",
   "execution_count": null,
   "metadata": {},
   "outputs": [],
   "source": [
    "\n",
    "# ######q3\n",
    "# from flask import Flask \n",
    "# app =  Flask(__name__)\n",
    "# @app.route('/<name>')\n",
    "# def hello_world(name):\n",
    "#     return ('Hello %s '%name)\n",
    "# if __name__  == '__main__':\n",
    "#     app.run(debug=True)\n"
   ]
  },
  {
   "cell_type": "code",
   "execution_count": 1,
   "metadata": {},
   "outputs": [
    {
     "name": "stdout",
     "output_type": "stream",
     "text": [
      " * Serving Flask app '__main__'\n",
      " * Debug mode: on\n"
     ]
    },
    {
     "name": "stderr",
     "output_type": "stream",
     "text": [
      "WARNING: This is a development server. Do not use it in a production deployment. Use a production WSGI server instead.\n",
      " * Running on http://127.0.0.1:5000\n",
      "Press CTRL+C to quit\n",
      " * Restarting with watchdog (windowsapi)\n"
     ]
    },
    {
     "ename": "SystemExit",
     "evalue": "1",
     "output_type": "error",
     "traceback": [
      "An exception has occurred, use %tb to see the full traceback.\n",
      "\u001b[1;31mSystemExit\u001b[0m\u001b[1;31m:\u001b[0m 1\n"
     ]
    },
    {
     "name": "stderr",
     "output_type": "stream",
     "text": [
      "c:\\Users\\Administrator.DAI-PC2\\anaconda3\\Lib\\site-packages\\IPython\\core\\interactiveshell.py:3561: UserWarning: To exit: use 'exit', 'quit', or Ctrl-D.\n",
      "  warn(\"To exit: use 'exit', 'quit', or Ctrl-D.\", stacklevel=1)\n"
     ]
    }
   ],
   "source": [
    "\n",
    "\n",
    "\n",
    "# from flask import Flask \n",
    "# app =  Flask(__name__)\n",
    "# @app.route('/<name>')\n",
    "# def hello_world(name):\n",
    "#     return (\"hello %s\" %name)\n",
    "\n",
    "# @app.route('/')\n",
    "# def hello():\n",
    "#     return ('this is Hom')\n",
    "\n",
    "# if __name__  == '__main__':\n",
    "#     app.run(debug=True)\n"
   ]
  },
  {
   "cell_type": "code",
   "execution_count": null,
   "metadata": {},
   "outputs": [],
   "source": []
  }
 ],
 "metadata": {
  "kernelspec": {
   "display_name": "base",
   "language": "python",
   "name": "python3"
  },
  "language_info": {
   "codemirror_mode": {
    "name": "ipython",
    "version": 3
   },
   "file_extension": ".py",
   "mimetype": "text/x-python",
   "name": "python",
   "nbconvert_exporter": "python",
   "pygments_lexer": "ipython3",
   "version": "3.11.7"
  }
 },
 "nbformat": 4,
 "nbformat_minor": 2
}
