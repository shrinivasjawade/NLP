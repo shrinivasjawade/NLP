{
 "cells": [
  {
   "cell_type": "code",
   "execution_count": 1,
   "metadata": {},
   "outputs": [
    {
     "name": "stdout",
     "output_type": "stream",
     "text": [
      "Collecting SpeechRecognition\n",
      "  Downloading SpeechRecognition-3.10.4-py2.py3-none-any.whl.metadata (28 kB)\n",
      "Collecting PyAudio\n",
      "  Downloading PyAudio-0.2.14-cp311-cp311-win_amd64.whl.metadata (2.7 kB)\n",
      "Requirement already satisfied: requests>=2.26.0 in c:\\users\\administrator.dai-pc2\\anaconda3\\lib\\site-packages (from SpeechRecognition) (2.31.0)\n",
      "Requirement already satisfied: typing-extensions in c:\\users\\administrator.dai-pc2\\anaconda3\\lib\\site-packages (from SpeechRecognition) (4.9.0)\n",
      "Requirement already satisfied: charset-normalizer<4,>=2 in c:\\users\\administrator.dai-pc2\\anaconda3\\lib\\site-packages (from requests>=2.26.0->SpeechRecognition) (2.0.4)\n",
      "Requirement already satisfied: idna<4,>=2.5 in c:\\users\\administrator.dai-pc2\\anaconda3\\lib\\site-packages (from requests>=2.26.0->SpeechRecognition) (3.4)\n",
      "Requirement already satisfied: urllib3<3,>=1.21.1 in c:\\users\\administrator.dai-pc2\\anaconda3\\lib\\site-packages (from requests>=2.26.0->SpeechRecognition) (2.0.7)\n",
      "Requirement already satisfied: certifi>=2017.4.17 in c:\\users\\administrator.dai-pc2\\anaconda3\\lib\\site-packages (from requests>=2.26.0->SpeechRecognition) (2024.2.2)\n",
      "Downloading SpeechRecognition-3.10.4-py2.py3-none-any.whl (32.8 MB)\n",
      "   ---------------------------------------- 0.0/32.8 MB ? eta -:--:--\n",
      "   ---------------------------------------- 0.3/32.8 MB 8.6 MB/s eta 0:00:04\n",
      "   - -------------------------------------- 1.3/32.8 MB 13.6 MB/s eta 0:00:03\n",
      "   ---- ----------------------------------- 3.5/32.8 MB 24.4 MB/s eta 0:00:02\n",
      "   -------- ------------------------------- 6.7/32.8 MB 35.8 MB/s eta 0:00:01\n",
      "   -------- ------------------------------- 6.9/32.8 MB 29.3 MB/s eta 0:00:01\n",
      "   -------- ------------------------------- 7.2/32.8 MB 25.6 MB/s eta 0:00:02\n",
      "   ---------- ----------------------------- 8.3/32.8 MB 25.2 MB/s eta 0:00:01\n",
      "   ----------- ---------------------------- 9.4/32.8 MB 25.1 MB/s eta 0:00:01\n",
      "   ------------- -------------------------- 10.7/32.8 MB 27.3 MB/s eta 0:00:01\n",
      "   -------------- ------------------------- 12.3/32.8 MB 28.5 MB/s eta 0:00:01\n",
      "   ---------------- ----------------------- 13.7/32.8 MB 28.5 MB/s eta 0:00:01\n",
      "   ----------------- ---------------------- 14.5/32.8 MB 24.2 MB/s eta 0:00:01\n",
      "   ------------------- -------------------- 15.9/32.8 MB 22.6 MB/s eta 0:00:01\n",
      "   --------------------- ------------------ 17.5/32.8 MB 27.3 MB/s eta 0:00:01\n",
      "   --------------------- ------------------ 17.7/32.8 MB 24.2 MB/s eta 0:00:01\n",
      "   ----------------------- ---------------- 19.2/32.8 MB 25.1 MB/s eta 0:00:01\n",
      "   ---------------------------- ----------- 23.1/32.8 MB 31.2 MB/s eta 0:00:01\n",
      "   --------------------------------- ------ 27.4/32.8 MB 54.7 MB/s eta 0:00:01\n",
      "   ------------------------------------ --- 30.2/32.8 MB 93.0 MB/s eta 0:00:01\n",
      "   ---------------------------------------  32.8/32.8 MB 72.6 MB/s eta 0:00:01\n",
      "   ---------------------------------------  32.8/32.8 MB 72.6 MB/s eta 0:00:01\n",
      "   ---------------------------------------  32.8/32.8 MB 72.6 MB/s eta 0:00:01\n",
      "   ---------------------------------------  32.8/32.8 MB 72.6 MB/s eta 0:00:01\n",
      "   ---------------------------------------- 32.8/32.8 MB 32.7 MB/s eta 0:00:00\n",
      "Downloading PyAudio-0.2.14-cp311-cp311-win_amd64.whl (164 kB)\n",
      "   ---------------------------------------- 0.0/164.1 kB ? eta -:--:--\n",
      "   ---------------------------------------- 164.1/164.1 kB 9.6 MB/s eta 0:00:00\n",
      "Installing collected packages: PyAudio, SpeechRecognition\n",
      "Successfully installed PyAudio-0.2.14 SpeechRecognition-3.10.4\n"
     ]
    }
   ],
   "source": [
    "!pip install SpeechRecognition PyAudio\n"
   ]
  },
  {
   "cell_type": "markdown",
   "metadata": {},
   "source": [
    "Import the package"
   ]
  },
  {
   "cell_type": "code",
   "execution_count": 2,
   "metadata": {},
   "outputs": [],
   "source": [
    "import speech_recognition as sr"
   ]
  },
  {
   "cell_type": "markdown",
   "metadata": {},
   "source": [
    "Create the  object of microphone"
   ]
  },
  {
   "cell_type": "code",
   "execution_count": 9,
   "metadata": {},
   "outputs": [],
   "source": [
    "r = sr.Recognizer()\n"
   ]
  },
  {
   "cell_type": "markdown",
   "metadata": {},
   "source": [
    "Open Microphone, Rcognization and Convert"
   ]
  },
  {
   "cell_type": "code",
   "execution_count": 15,
   "metadata": {},
   "outputs": [
    {
     "name": "stdout",
     "output_type": "stream",
     "text": [
      "Say something!\n",
      "Ýou said :  kya kar rahe ho\n"
     ]
    }
   ],
   "source": [
    "with sr.Microphone() as source:\n",
    "    r.adjust_for_ambient_noise(source)\n",
    "    print(\"Say something!\")\n",
    "    audio = r.listen(source)    \n",
    "    print(\"Ýou said : \", r.recognize_google(audio))"
   ]
  },
  {
   "cell_type": "code",
   "execution_count": null,
   "metadata": {},
   "outputs": [],
   "source": []
  }
 ],
 "metadata": {
  "kernelspec": {
   "display_name": "base",
   "language": "python",
   "name": "python3"
  },
  "language_info": {
   "codemirror_mode": {
    "name": "ipython",
    "version": 3
   },
   "file_extension": ".py",
   "mimetype": "text/x-python",
   "name": "python",
   "nbconvert_exporter": "python",
   "pygments_lexer": "ipython3",
   "version": "3.11.7"
  }
 },
 "nbformat": 4,
 "nbformat_minor": 2
}
