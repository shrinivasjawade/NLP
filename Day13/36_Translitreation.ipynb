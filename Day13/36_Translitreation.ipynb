{
 "cells": [
  {
   "cell_type": "code",
   "execution_count": 1,
   "metadata": {},
   "outputs": [
    {
     "ename": "SyntaxError",
     "evalue": "invalid syntax (2799797977.py, line 1)",
     "output_type": "error",
     "traceback": [
      "\u001b[1;36m  Cell \u001b[1;32mIn[1], line 1\u001b[1;36m\u001b[0m\n\u001b[1;33m    Install library\u001b[0m\n\u001b[1;37m            ^\u001b[0m\n\u001b[1;31mSyntaxError\u001b[0m\u001b[1;31m:\u001b[0m invalid syntax\n"
     ]
    }
   ],
   "source": [
    "Install library "
   ]
  },
  {
   "cell_type": "code",
   "execution_count": 5,
   "metadata": {},
   "outputs": [
    {
     "name": "stdout",
     "output_type": "stream",
     "text": [
      "Collecting indic-transliterationNote: you may need to restart the kernel to use updated packages.\n",
      "\n",
      "  Downloading indic_transliteration-2.3.59-py3-none-any.whl.metadata (1.4 kB)\n",
      "Requirement already satisfied: backports.functools-lru-cache in c:\\users\\administrator.dai-pc2\\anaconda3\\lib\\site-packages (from indic-transliteration) (1.6.4)\n",
      "Requirement already satisfied: regex in c:\\users\\administrator.dai-pc2\\anaconda3\\lib\\site-packages (from indic-transliteration) (2023.10.3)\n",
      "Requirement already satisfied: typer in c:\\users\\administrator.dai-pc2\\anaconda3\\lib\\site-packages (from indic-transliteration) (0.9.4)\n",
      "Requirement already satisfied: toml in c:\\users\\administrator.dai-pc2\\anaconda3\\lib\\site-packages (from indic-transliteration) (0.10.2)\n",
      "Collecting roman (from indic-transliteration)\n",
      "  Downloading roman-4.2-py3-none-any.whl.metadata (3.6 kB)\n",
      "Requirement already satisfied: click<9.0.0,>=7.1.1 in c:\\users\\administrator.dai-pc2\\anaconda3\\lib\\site-packages (from typer->indic-transliteration) (8.1.7)\n",
      "Requirement already satisfied: typing-extensions>=3.7.4.3 in c:\\users\\administrator.dai-pc2\\anaconda3\\lib\\site-packages (from typer->indic-transliteration) (4.9.0)\n",
      "Requirement already satisfied: colorama in c:\\users\\administrator.dai-pc2\\anaconda3\\lib\\site-packages (from click<9.0.0,>=7.1.1->typer->indic-transliteration) (0.4.6)\n",
      "Downloading indic_transliteration-2.3.59-py3-none-any.whl (152 kB)\n",
      "   ---------------------------------------- 0.0/152.1 kB ? eta -:--:--\n",
      "   ----------------------------- ---------- 112.6/152.1 kB 3.2 MB/s eta 0:00:01\n",
      "   ---------------------------------------- 152.1/152.1 kB 1.8 MB/s eta 0:00:00\n",
      "Downloading roman-4.2-py3-none-any.whl (5.5 kB)\n",
      "Installing collected packages: roman, indic-transliteration\n",
      "Successfully installed indic-transliteration-2.3.59 roman-4.2\n"
     ]
    }
   ],
   "source": [
    "pip install indic-transliteration\n"
   ]
  },
  {
   "cell_type": "markdown",
   "metadata": {},
   "source": [
    "Import library"
   ]
  },
  {
   "cell_type": "code",
   "execution_count": 6,
   "metadata": {},
   "outputs": [],
   "source": [
    "from indic_transliteration import sanscript\n",
    "from indic_transliteration.sanscript import transliterate"
   ]
  },
  {
   "cell_type": "code",
   "execution_count": 7,
   "metadata": {},
   "outputs": [],
   "source": [
    "data = 'Gaurav'"
   ]
  },
  {
   "cell_type": "code",
   "execution_count": 8,
   "metadata": {},
   "outputs": [
    {
     "name": "stdout",
     "output_type": "stream",
     "text": [
      "ग़ौरव्\n"
     ]
    }
   ],
   "source": [
    "print(transliterate(data, sanscript.ITRANS, sanscript.DEVANAGARI))"
   ]
  },
  {
   "cell_type": "code",
   "execution_count": 16,
   "metadata": {},
   "outputs": [
    {
     "name": "stdout",
     "output_type": "stream",
     "text": [
      "भारती\n"
     ]
    }
   ],
   "source": [
    "print(transliterate('bhAratI', sanscript.ITRANS, sanscript.DEVANAGARI))"
   ]
  },
  {
   "cell_type": "code",
   "execution_count": 18,
   "metadata": {},
   "outputs": [
    {
     "name": "stdout",
     "output_type": "stream",
     "text": [
      "ग़ौअव्\n"
     ]
    }
   ],
   "source": [
    "data  =input('Enter your name : ')\n",
    "print(transliterate(data, sanscript.ITRANS, sanscript.DEVANAGARI))"
   ]
  },
  {
   "cell_type": "code",
   "execution_count": null,
   "metadata": {},
   "outputs": [],
   "source": []
  }
 ],
 "metadata": {
  "kernelspec": {
   "display_name": "base",
   "language": "python",
   "name": "python3"
  },
  "language_info": {
   "codemirror_mode": {
    "name": "ipython",
    "version": 3
   },
   "file_extension": ".py",
   "mimetype": "text/x-python",
   "name": "python",
   "nbconvert_exporter": "python",
   "pygments_lexer": "ipython3",
   "version": "3.11.7"
  }
 },
 "nbformat": 4,
 "nbformat_minor": 2
}
