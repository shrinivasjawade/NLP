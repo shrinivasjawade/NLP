{
 "cells": [
  {
   "cell_type": "markdown",
   "metadata": {},
   "source": [
    "INstall Library"
   ]
  },
  {
   "cell_type": "code",
   "execution_count": 1,
   "metadata": {},
   "outputs": [
    {
     "name": "stdout",
     "output_type": "stream",
     "text": [
      "Collecting goslateNote: you may need to restart the kernel to use updated packages.\n",
      "\n",
      "  Using cached goslate-1.5.4.tar.gz (14 kB)\n",
      "  Preparing metadata (setup.py): started\n",
      "  Preparing metadata (setup.py): finished with status 'done'\n",
      "Collecting futures (from goslate)\n",
      "  Using cached futures-3.0.5.tar.gz (25 kB)\n",
      "  Preparing metadata (setup.py): started\n",
      "  Preparing metadata (setup.py): finished with status 'error'\n"
     ]
    },
    {
     "name": "stderr",
     "output_type": "stream",
     "text": [
      "  error: subprocess-exited-with-error\n",
      "  \n",
      "  × python setup.py egg_info did not run successfully.\n",
      "  │ exit code: 1\n",
      "  ╰─> [30 lines of output]\n",
      "      Traceback (most recent call last):\n",
      "        File \"<string>\", line 2, in <module>\n",
      "        File \"<pip-setuptools-caller>\", line 14, in <module>\n",
      "        File \"c:\\Users\\Administrator.DAI-PC2\\anaconda3\\Lib\\site-packages\\setuptools\\__init__.py\", line 266, in <module>\n",
      "          monkey.patch_all()\n",
      "        File \"c:\\Users\\Administrator.DAI-PC2\\anaconda3\\Lib\\site-packages\\setuptools\\monkey.py\", line 98, in patch_all\n",
      "          patch_for_msvc_specialized_compiler()\n",
      "        File \"c:\\Users\\Administrator.DAI-PC2\\anaconda3\\Lib\\site-packages\\setuptools\\monkey.py\", line 165, in patch_for_msvc_specialized_compiler\n",
      "          patch_func(*msvc14('_get_vc_env'))\n",
      "                      ^^^^^^^^^^^^^^^^^^^^^\n",
      "        File \"c:\\Users\\Administrator.DAI-PC2\\anaconda3\\Lib\\site-packages\\setuptools\\monkey.py\", line 155, in patch_params\n",
      "          mod = import_module(mod_name)\n",
      "                ^^^^^^^^^^^^^^^^^^^^^^^\n",
      "        File \"c:\\Users\\Administrator.DAI-PC2\\anaconda3\\Lib\\importlib\\__init__.py\", line 126, in import_module\n",
      "          return _bootstrap._gcd_import(name[level:], package, level)\n",
      "                 ^^^^^^^^^^^^^^^^^^^^^^^^^^^^^^^^^^^^^^^^^^^^^^^^^^^^\n",
      "        File \"c:\\Users\\Administrator.DAI-PC2\\anaconda3\\Lib\\site-packages\\setuptools\\_distutils\\_msvccompiler.py\", line 20, in <module>\n",
      "          import unittest.mock as mock\n",
      "        File \"c:\\Users\\Administrator.DAI-PC2\\anaconda3\\Lib\\unittest\\mock.py\", line 26, in <module>\n",
      "          import asyncio\n",
      "        File \"c:\\Users\\Administrator.DAI-PC2\\anaconda3\\Lib\\asyncio\\__init__.py\", line 8, in <module>\n",
      "          from .base_events import *\n",
      "        File \"c:\\Users\\Administrator.DAI-PC2\\anaconda3\\Lib\\asyncio\\base_events.py\", line 18, in <module>\n",
      "          import concurrent.futures\n",
      "        File \"C:\\Users\\Administrator.DAI-PC2\\AppData\\Local\\Temp\\pip-install-wn917bcp\\futures_64482d8e7b3643dfbae7034a31cb888b\\concurrent\\futures\\__init__.py\", line 8, in <module>\n",
      "          from concurrent.futures._base import (FIRST_COMPLETED,\n",
      "        File \"C:\\Users\\Administrator.DAI-PC2\\AppData\\Local\\Temp\\pip-install-wn917bcp\\futures_64482d8e7b3643dfbae7034a31cb888b\\concurrent\\futures\\_base.py\", line 357\n",
      "          raise type(self._exception), self._exception, self._traceback\n",
      "                                     ^\n",
      "      SyntaxError: invalid syntax\n",
      "      [end of output]\n",
      "  \n",
      "  note: This error originates from a subprocess, and is likely not a problem with pip.\n",
      "error: metadata-generation-failed\n",
      "\n",
      "× Encountered error while generating package metadata.\n",
      "╰─> See above for output.\n",
      "\n",
      "note: This is an issue with the package mentioned above, not pip.\n",
      "hint: See above for details.\n"
     ]
    }
   ],
   "source": [
    "pip install goslate"
   ]
  },
  {
   "cell_type": "code",
   "execution_count": null,
   "metadata": {},
   "outputs": [],
   "source": []
  }
 ],
 "metadata": {
  "kernelspec": {
   "display_name": "base",
   "language": "python",
   "name": "python3"
  },
  "language_info": {
   "codemirror_mode": {
    "name": "ipython",
    "version": 3
   },
   "file_extension": ".py",
   "mimetype": "text/x-python",
   "name": "python",
   "nbconvert_exporter": "python",
   "pygments_lexer": "ipython3",
   "version": "3.11.7"
  }
 },
 "nbformat": 4,
 "nbformat_minor": 2
}
