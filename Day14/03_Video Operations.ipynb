{
 "cells": [
  {
   "cell_type": "code",
   "execution_count": 1,
   "metadata": {},
   "outputs": [],
   "source": [
    "import cv2\n",
    "import matplotlib.pyplot as plt"
   ]
  },
  {
   "cell_type": "code",
   "execution_count": 2,
   "metadata": {},
   "outputs": [],
   "source": [
    "vid = cv2.VideoCapture('../images/robots.mp4')"
   ]
  },
  {
   "cell_type": "code",
   "execution_count": 3,
   "metadata": {},
   "outputs": [],
   "source": [
    "ret, frame = vid.read()"
   ]
  },
  {
   "cell_type": "code",
   "execution_count": 4,
   "metadata": {},
   "outputs": [
    {
     "data": {
      "text/plain": [
       "True"
      ]
     },
     "execution_count": 4,
     "metadata": {},
     "output_type": "execute_result"
    }
   ],
   "source": [
    "ret"
   ]
  },
  {
   "cell_type": "code",
   "execution_count": 5,
   "metadata": {},
   "outputs": [
    {
     "data": {
      "text/plain": [
       "array([[[ 19,  14,  13],\n",
       "        [ 19,  14,  13],\n",
       "        [ 19,  14,  13],\n",
       "        ...,\n",
       "        [ 48,  43,  23],\n",
       "        [ 48,  43,  23],\n",
       "        [ 48,  43,  23]],\n",
       "\n",
       "       [[ 19,  14,  13],\n",
       "        [ 19,  14,  13],\n",
       "        [ 19,  14,  13],\n",
       "        ...,\n",
       "        [ 48,  43,  23],\n",
       "        [ 48,  43,  23],\n",
       "        [ 48,  43,  23]],\n",
       "\n",
       "       [[ 19,  14,  13],\n",
       "        [ 19,  14,  13],\n",
       "        [ 19,  14,  13],\n",
       "        ...,\n",
       "        [ 48,  43,  23],\n",
       "        [ 48,  43,  23],\n",
       "        [ 48,  43,  23]],\n",
       "\n",
       "       ...,\n",
       "\n",
       "       [[164, 167, 178],\n",
       "        [164, 167, 178],\n",
       "        [164, 167, 178],\n",
       "        ...,\n",
       "        [142, 143, 161],\n",
       "        [142, 143, 161],\n",
       "        [142, 143, 161]],\n",
       "\n",
       "       [[164, 167, 178],\n",
       "        [164, 167, 178],\n",
       "        [164, 167, 178],\n",
       "        ...,\n",
       "        [142, 143, 161],\n",
       "        [142, 143, 161],\n",
       "        [142, 143, 161]],\n",
       "\n",
       "       [[164, 167, 178],\n",
       "        [164, 167, 178],\n",
       "        [164, 167, 178],\n",
       "        ...,\n",
       "        [143, 144, 162],\n",
       "        [143, 144, 162],\n",
       "        [143, 144, 162]]], dtype=uint8)"
      ]
     },
     "execution_count": 5,
     "metadata": {},
     "output_type": "execute_result"
    }
   ],
   "source": [
    "frame"
   ]
  },
  {
   "cell_type": "code",
   "execution_count": 6,
   "metadata": {},
   "outputs": [
    {
     "data": {
      "text/plain": [
       "(640, 640, 3)"
      ]
     },
     "execution_count": 6,
     "metadata": {},
     "output_type": "execute_result"
    }
   ],
   "source": [
    "frame.shape"
   ]
  },
  {
   "cell_type": "code",
   "execution_count": 7,
   "metadata": {},
   "outputs": [],
   "source": [
    "cv2.imshow('First Frame', frame)\n",
    "\n",
    "# waitkey(milliseconds) allows users to display a window for given milliseconds or until any key is pressed. If 0, means infinitely open until key pressed.\n",
    "cv2.waitKey(0)\n",
    "cv2.destroyAllWindows()"
   ]
  },
  {
   "cell_type": "code",
   "execution_count": 8,
   "metadata": {},
   "outputs": [],
   "source": [
    "width = int(vid.get(cv2.CAP_PROP_FRAME_WIDTH))\n",
    "height = int(vid.get(cv2.CAP_PROP_FRAME_HEIGHT))\n",
    "frames = int(vid.get(cv2.CAP_PROP_FRAME_COUNT))\n",
    "fps = int(vid.get(cv2.CAP_PROP_FPS))"
   ]
  },
  {
   "cell_type": "code",
   "execution_count": 9,
   "metadata": {},
   "outputs": [
    {
     "name": "stdout",
     "output_type": "stream",
     "text": [
      "Total Resolution:  640 640\n",
      "Total Frames:  1799\n",
      "FPS:  30\n",
      "Video Length (in secs):  59.96666666666667\n"
     ]
    }
   ],
   "source": [
    "print('Total Resolution: ', height, width)\n",
    "print('Total Frames: ', frames)\n",
    "print('FPS: ', fps)\n",
    "print('Video Length (in secs): ', frames/fps)"
   ]
  },
  {
   "cell_type": "code",
   "execution_count": 10,
   "metadata": {},
   "outputs": [],
   "source": [
    "vid = cv2.VideoCapture('../images/robots.mp4')\n",
    "while True:\n",
    "    ret, frame = vid.read()\n",
    "    if not ret:\n",
    "        break\n",
    "    \n",
    "    cv2.imshow('Video', frame)\n",
    "    if cv2.waitKey(5) == ord('q'): # ord('q) = 113 48-57(0-9), 65-90(A-Z), 97-122(a-z)\n",
    "        break\n",
    "    \n",
    "cv2.destroyAllWindows()"
   ]
  },
  {
   "cell_type": "code",
   "execution_count": 11,
   "metadata": {},
   "outputs": [],
   "source": [
    "vid = cv2.VideoCapture('../images/robots.mp4')\n",
    "\n",
    "success, frame = vid.read()\n",
    "# Count should begin from 0 as at 0th second there is a frame\n",
    "count = 1\n",
    "\n",
    "while success:\n",
    "    \n",
    "    cv2.imwrite(f'../Day_14/Video Frames/{count}.jpg', frame)\n",
    "    success, frame = vid.read()\n",
    "    count += 1"
   ]
  },
  {
   "cell_type": "code",
   "execution_count": 12,
   "metadata": {},
   "outputs": [
    {
     "name": "stdout",
     "output_type": "stream",
     "text": [
      "0.0 0.0 43.0\n"
     ]
    }
   ],
   "source": [
    "timestamp = '00:00:43.00'\n",
    "hours, minutes, seconds = [float(i) for i in timestamp.split(':')]\n",
    "print(hours, minutes, seconds)"
   ]
  },
  {
   "cell_type": "code",
   "execution_count": 13,
   "metadata": {},
   "outputs": [
    {
     "data": {
      "text/plain": [
       "1290.0"
      ]
     },
     "execution_count": 13,
     "metadata": {},
     "output_type": "execute_result"
    }
   ],
   "source": [
    "fps*seconds"
   ]
  },
  {
   "cell_type": "code",
   "execution_count": 14,
   "metadata": {},
   "outputs": [
    {
     "name": "stdout",
     "output_type": "stream",
     "text": [
      "1799 1290.0\n"
     ]
    }
   ],
   "source": [
    "trigger_frame = (hours * 3600 *fps) + (minutes * 60 * fps) + (seconds * fps)\n",
    "print(frames, trigger_frame)"
   ]
  },
  {
   "cell_type": "code",
   "execution_count": 15,
   "metadata": {},
   "outputs": [],
   "source": [
    "vid.set(1, trigger_frame)\n",
    "success, frame = vid.read()\n",
    "\n",
    "if success:\n",
    "    cv2.imwrite('screen.jpg', frame)"
   ]
  },
  {
   "cell_type": "markdown",
   "metadata": {},
   "source": [
    "#### Capture using Camera\n"
   ]
  },
  {
   "cell_type": "code",
   "execution_count": 16,
   "metadata": {},
   "outputs": [
    {
     "data": {
      "text/plain": [
       "False"
      ]
     },
     "execution_count": 16,
     "metadata": {},
     "output_type": "execute_result"
    }
   ],
   "source": [
    "vid = cv2.VideoCapture(0)\n",
    "vid.isOpened() # False - as There is camera source"
   ]
  },
  {
   "cell_type": "code",
   "execution_count": 17,
   "metadata": {},
   "outputs": [],
   "source": [
    "success, frame = vid.read()"
   ]
  },
  {
   "cell_type": "code",
   "execution_count": 18,
   "metadata": {},
   "outputs": [],
   "source": [
    "vid.release()"
   ]
  },
  {
   "cell_type": "code",
   "execution_count": 19,
   "metadata": {},
   "outputs": [],
   "source": [
    "# cv2.imwrite('myimage.jpg', frame) We need camera for this"
   ]
  },
  {
   "cell_type": "code",
   "execution_count": 20,
   "metadata": {},
   "outputs": [],
   "source": [
    "cap = cv2.VideoCapture(0)\n",
    "\n",
    "while(cap.isOpened()):\n",
    "    \n",
    "    ret, frame = cap.read()\n",
    "    if ret == True:\n",
    "        cv2.imshow('Frame', frame)\n",
    "        \n",
    "        if cv2.waitKey(1) & 0xFF== ord('q'):\n",
    "            break\n",
    "        \n",
    "    else:\n",
    "        break\n",
    "    \n",
    "cap.release()\n",
    "\n",
    "cv2.destroyAllWindows()"
   ]
  }
 ],
 "metadata": {
  "kernelspec": {
   "display_name": "base",
   "language": "python",
   "name": "python3"
  },
  "language_info": {
   "codemirror_mode": {
    "name": "ipython",
    "version": 3
   },
   "file_extension": ".py",
   "mimetype": "text/x-python",
   "name": "python",
   "nbconvert_exporter": "python",
   "pygments_lexer": "ipython3",
   "version": "3.11.7"
  }
 },
 "nbformat": 4,
 "nbformat_minor": 2
}
