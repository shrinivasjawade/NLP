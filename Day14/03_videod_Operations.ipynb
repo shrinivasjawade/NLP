{
 "cells": [
  {
   "cell_type": "code",
   "execution_count": 1,
   "metadata": {},
   "outputs": [],
   "source": [
    "import cv2 \n",
    "import matplotlib.pyplot as plt "
   ]
  },
  {
   "cell_type": "code",
   "execution_count": 2,
   "metadata": {},
   "outputs": [],
   "source": [
    "#load the video\n",
    "vid  =  cv2.VideoCapture(r\"D:\\NLP\\Day13\\Computer_vision\\images\\robots.mp4\")\n"
   ]
  },
  {
   "cell_type": "code",
   "execution_count": 3,
   "metadata": {},
   "outputs": [],
   "source": [
    "#extract the frame\n",
    "ret ,frame =  vid.read()"
   ]
  },
  {
   "cell_type": "code",
   "execution_count": 4,
   "metadata": {},
   "outputs": [
    {
     "data": {
      "text/plain": [
       "True"
      ]
     },
     "execution_count": 4,
     "metadata": {},
     "output_type": "execute_result"
    }
   ],
   "source": [
    "True"
   ]
  },
  {
   "cell_type": "code",
   "execution_count": 5,
   "metadata": {},
   "outputs": [
    {
     "data": {
      "text/plain": [
       "array([[[ 19,  14,  13],\n",
       "        [ 19,  14,  13],\n",
       "        [ 19,  14,  13],\n",
       "        ...,\n",
       "        [ 48,  43,  23],\n",
       "        [ 48,  43,  23],\n",
       "        [ 48,  43,  23]],\n",
       "\n",
       "       [[ 19,  14,  13],\n",
       "        [ 19,  14,  13],\n",
       "        [ 19,  14,  13],\n",
       "        ...,\n",
       "        [ 48,  43,  23],\n",
       "        [ 48,  43,  23],\n",
       "        [ 48,  43,  23]],\n",
       "\n",
       "       [[ 19,  14,  13],\n",
       "        [ 19,  14,  13],\n",
       "        [ 19,  14,  13],\n",
       "        ...,\n",
       "        [ 48,  43,  23],\n",
       "        [ 48,  43,  23],\n",
       "        [ 48,  43,  23]],\n",
       "\n",
       "       ...,\n",
       "\n",
       "       [[164, 167, 178],\n",
       "        [164, 167, 178],\n",
       "        [164, 167, 178],\n",
       "        ...,\n",
       "        [142, 143, 161],\n",
       "        [142, 143, 161],\n",
       "        [142, 143, 161]],\n",
       "\n",
       "       [[164, 167, 178],\n",
       "        [164, 167, 178],\n",
       "        [164, 167, 178],\n",
       "        ...,\n",
       "        [142, 143, 161],\n",
       "        [142, 143, 161],\n",
       "        [142, 143, 161]],\n",
       "\n",
       "       [[164, 167, 178],\n",
       "        [164, 167, 178],\n",
       "        [164, 167, 178],\n",
       "        ...,\n",
       "        [143, 144, 162],\n",
       "        [143, 144, 162],\n",
       "        [143, 144, 162]]], dtype=uint8)"
      ]
     },
     "execution_count": 5,
     "metadata": {},
     "output_type": "execute_result"
    }
   ],
   "source": [
    "frame"
   ]
  },
  {
   "cell_type": "code",
   "execution_count": 6,
   "metadata": {},
   "outputs": [
    {
     "data": {
      "text/plain": [
       "(640, 640, 3)"
      ]
     },
     "execution_count": 6,
     "metadata": {},
     "output_type": "execute_result"
    }
   ],
   "source": [
    "frame.shape"
   ]
  },
  {
   "cell_type": "code",
   "execution_count": 7,
   "metadata": {},
   "outputs": [],
   "source": [
    "cv2.imshow(\"First Frame\",frame)\n",
    "cv2.waitKey(0)\n",
    "cv2.destroyAllWindows()"
   ]
  },
  {
   "cell_type": "code",
   "execution_count": 8,
   "metadata": {},
   "outputs": [],
   "source": [
    "width = int(vid.get(cv2.CAP_PROP_FRAME_WIDTH))\n",
    "height =  int(vid.get(cv2.CAP_PROP_FRAME_HEIGHT))\n",
    "frame =  int(vid.get(cv2.CAP_PROP_FRAME_COUNT))\n",
    "fps  =  int(vid.get(cv2.CAP_PROP_FPS))\n"
   ]
  },
  {
   "cell_type": "code",
   "execution_count": 9,
   "metadata": {},
   "outputs": [
    {
     "name": "stdout",
     "output_type": "stream",
     "text": [
      "Vedio Resolutatin : 640 640\n",
      "Total Frame : 1799\n",
      "FPS : 30\n"
     ]
    }
   ],
   "source": [
    "print('Vedio Resolutatin :',height,width)\n",
    "print('Total Frame :',frame)\n",
    "print(\"FPS :\",fps)"
   ]
  },
  {
   "cell_type": "code",
   "execution_count": 10,
   "metadata": {},
   "outputs": [
    {
     "data": {
      "text/plain": [
       "59.96666666666667"
      ]
     },
     "execution_count": 10,
     "metadata": {},
     "output_type": "execute_result"
    }
   ],
   "source": [
    "frame/fps"
   ]
  },
  {
   "cell_type": "code",
   "execution_count": 11,
   "metadata": {},
   "outputs": [],
   "source": [
    "vid  =  cv2.VideoCapture(r\"D:\\NLP\\Day13\\Computer_vision\\images\\robots.mp4\")\n",
    "while True:\n",
    "    ret,frame =  vid.read()\n",
    "    if not ret:\n",
    "        break\n",
    "    cv2.imshow(\"Vedio\",frame)\n",
    "    if cv2.waitKey(5) ==ord(\"q\"):\n",
    "        break\n",
    "cv2.destroyAllWindows()"
   ]
  },
  {
   "cell_type": "markdown",
   "metadata": {},
   "source": [
    "#################Capture the image "
   ]
  },
  {
   "cell_type": "code",
   "execution_count": 12,
   "metadata": {},
   "outputs": [],
   "source": [
    "vid  =  cv2.VideoCapture(r\"D:\\NLP\\Day13\\Computer_vision\\images\\robots.mp4\")\n",
    "\n",
    "#get the first tframe and see if successfu \n",
    "success ,frame    =  vid.read()\n",
    "\n",
    "# initiate count\n",
    "count  = 1\n",
    "#keep extract frame as long as success is true \n",
    "while success:\n",
    "    cv2.imwrite(f\"video_frames/{count}.jpg\",frame)\n",
    "    success,frame  = vid.read()\n",
    "    count+=1"
   ]
  },
  {
   "cell_type": "code",
   "execution_count": 13,
   "metadata": {},
   "outputs": [],
   "source": [
    "# working with timestamp "
   ]
  },
  {
   "cell_type": "code",
   "execution_count": 14,
   "metadata": {},
   "outputs": [
    {
     "name": "stdout",
     "output_type": "stream",
     "text": [
      "0.0 0.0 43.0\n"
     ]
    }
   ],
   "source": [
    "#3getframe at speific timestamp \n",
    "timestamp  = '00:00:43'\n",
    "hours,minutes,seconds =[float(i) for i in timestamp.split(\":\")]\n",
    "print(hours,minutes,seconds)\n"
   ]
  },
  {
   "cell_type": "code",
   "execution_count": 15,
   "metadata": {},
   "outputs": [
    {
     "data": {
      "text/plain": [
       "['00', '00', '43.0']"
      ]
     },
     "execution_count": 15,
     "metadata": {},
     "output_type": "execute_result"
    }
   ],
   "source": [
    "timestamp = \"00:00:43.0\"\n",
    "timestamp.split(\":\")"
   ]
  },
  {
   "cell_type": "code",
   "execution_count": 16,
   "metadata": {},
   "outputs": [
    {
     "name": "stdout",
     "output_type": "stream",
     "text": [
      "None 1290.0\n"
     ]
    }
   ],
   "source": [
    "#get number of frame up to time stamp \n",
    "trigger_frame  = hours* 3600  *fps +minutes *60 *fps +seconds *fps \n",
    "print(frame  ,trigger_frame)"
   ]
  },
  {
   "cell_type": "code",
   "execution_count": 17,
   "metadata": {},
   "outputs": [],
   "source": [
    "##go to frame selected by time spwma \n",
    "vid.set(1,trigger_frame)\n",
    "success,frame  =  vid.read()\n",
    "##save the frame into an image file \n",
    "\n",
    "if success:\n",
    "    cv2.imwrite('screen.jpg',frame)"
   ]
  },
  {
   "cell_type": "code",
   "execution_count": 18,
   "metadata": {},
   "outputs": [
    {
     "data": {
      "text/plain": [
       "False"
      ]
     },
     "execution_count": 18,
     "metadata": {},
     "output_type": "execute_result"
    }
   ],
   "source": [
    "###capturing using Camera \n",
    "\n",
    "vid  = cv2.VideoCapture(0)\n",
    "vid.isOpened()\n"
   ]
  },
  {
   "cell_type": "code",
   "execution_count": 19,
   "metadata": {},
   "outputs": [],
   "source": [
    "success,frame  =  vid.read()\n"
   ]
  },
  {
   "cell_type": "code",
   "execution_count": 20,
   "metadata": {},
   "outputs": [],
   "source": [
    "vid.release()"
   ]
  },
  {
   "cell_type": "code",
   "execution_count": 22,
   "metadata": {},
   "outputs": [
    {
     "ename": "error",
     "evalue": "OpenCV(4.10.0) D:\\a\\opencv-python\\opencv-python\\opencv\\modules\\imgcodecs\\src\\loadsave.cpp:798: error: (-215:Assertion failed) !_img.empty() in function 'cv::imwrite'\n",
     "output_type": "error",
     "traceback": [
      "\u001b[1;31m---------------------------------------------------------------------------\u001b[0m",
      "\u001b[1;31merror\u001b[0m                                     Traceback (most recent call last)",
      "Cell \u001b[1;32mIn[22], line 1\u001b[0m\n\u001b[1;32m----> 1\u001b[0m cv2\u001b[38;5;241m.\u001b[39mimwrite(\u001b[38;5;124m\"\u001b[39m\u001b[38;5;124mmyimages.jpg\u001b[39m\u001b[38;5;124m\"\u001b[39m,frame)\n",
      "\u001b[1;31merror\u001b[0m: OpenCV(4.10.0) D:\\a\\opencv-python\\opencv-python\\opencv\\modules\\imgcodecs\\src\\loadsave.cpp:798: error: (-215:Assertion failed) !_img.empty() in function 'cv::imwrite'\n"
     ]
    }
   ],
   "source": [
    "cv2.imwrite(\"myimages.jpg\",frame)"
   ]
  },
  {
   "cell_type": "code",
   "execution_count": 23,
   "metadata": {},
   "outputs": [],
   "source": [
    "cap   =  cv2.VideoCapture(0)\n",
    "\n",
    "while (cap.isOpened()):\n",
    "    ret ,frame =cap.read()\n",
    "    if ret  ==True :\n",
    "        cv2.imshow(\"Frame\",frame)\n",
    "        if cv2.waitKey(1) & 0xFF==ord('q'):\n",
    "            break\n",
    "    else:\n",
    "        break\n",
    "#when everything is dor ,relsase ,this vedio capute the object \n",
    "cap.release()\n",
    "\n",
    "\n",
    "cv2.destroyAllWindows()"
   ]
  },
  {
   "cell_type": "code",
   "execution_count": null,
   "metadata": {},
   "outputs": [],
   "source": [
    "# Image Transformation \n",
    "\n",
    "\n",
    "##transform\n",
    "\n",
    "#--Geometric \n",
    "#--projective \n",
    "#--monopologic \n",
    "\n",
    "\n",
    "# combine all below is called  adine transformation \n",
    "# all thre below are geometric \n",
    "# --translation \n",
    "#--Rotation \n",
    "#--Scaling \n",
    "#--sharing \n",
    "#--retriving \n",
    "#--flipping\n",
    "\n",
    "#########################################################################\n",
    "\n",
    "##projective \n",
    "# --hompgraphy\n",
    "# 3###########################################################################\n",
    "##Morphological \n",
    "# -- Erosion \n",
    "# -- diluti \n",
    "\n",
    "\n",
    "\n",
    "\n",
    "\n",
    "\n"
   ]
  },
  {
   "cell_type": "code",
   "execution_count": null,
   "metadata": {},
   "outputs": [],
   "source": [
    "# Trnslation Matrix\n",
    "\n"
   ]
  },
  {
   "cell_type": "code",
   "execution_count": null,
   "metadata": {},
   "outputs": [],
   "source": []
  }
 ],
 "metadata": {
  "kernelspec": {
   "display_name": "base",
   "language": "python",
   "name": "python3"
  },
  "language_info": {
   "codemirror_mode": {
    "name": "ipython",
    "version": 3
   },
   "file_extension": ".py",
   "mimetype": "text/x-python",
   "name": "python",
   "nbconvert_exporter": "python",
   "pygments_lexer": "ipython3",
   "version": "3.11.7"
  }
 },
 "nbformat": 4,
 "nbformat_minor": 2
}
