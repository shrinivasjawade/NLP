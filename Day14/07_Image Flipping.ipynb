{
 "cells": [
  {
   "cell_type": "code",
   "execution_count": 1,
   "metadata": {},
   "outputs": [],
   "source": [
    "import cv2\n",
    "\n",
    "image = cv2.imread('../images/Lenna.png')\n",
    "\n",
    "flipped_horizontal = cv2.flip(image, 0) # Along Horizontal axis\n",
    "\n",
    "flipped_vertical = cv2.flip(image, 1) # Along Vertical axis\n",
    "\n",
    "flipped_diagonal = cv2.flip(image, -1) # Along Diagonal\n",
    "\n",
    "cv2.imshow('Original Image', image)\n",
    "cv2.imshow('Horizontal Flip', flipped_horizontal)\n",
    "cv2.imshow('Vertical Flip', flipped_vertical) \n",
    "cv2.imshow('Diagonal Flip', flipped_diagonal)\n",
    "cv2.waitKey(0)\n",
    "cv2.destroyAllWindows()"
   ]
  }
 ],
 "metadata": {
  "kernelspec": {
   "display_name": "base",
   "language": "python",
   "name": "python3"
  },
  "language_info": {
   "codemirror_mode": {
    "name": "ipython",
    "version": 3
   },
   "file_extension": ".py",
   "mimetype": "text/x-python",
   "name": "python",
   "nbconvert_exporter": "python",
   "pygments_lexer": "ipython3",
   "version": "3.11.7"
  }
 },
 "nbformat": 4,
 "nbformat_minor": 2
}
