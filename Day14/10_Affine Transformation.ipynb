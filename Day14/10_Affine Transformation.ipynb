{
 "cells": [
  {
   "cell_type": "code",
   "execution_count": 1,
   "metadata": {},
   "outputs": [],
   "source": [
    "import cv2\n",
    "import numpy as np\n",
    "\n",
    "image = cv2.imread('../images/Lenna.png')\n",
    "\n",
    "tx = 50\n",
    "ty = 100\n",
    "angle = 45\n",
    "scale = 1.2\n",
    "shear_x = 0.30 # Shear along x-axis\n",
    "shear_y = 0.25 # Shear along y-axis\n",
    "\n",
    "M = np.float32([[scale * np.cos(np.radians(angle)), shear_x, tx],\n",
    "                [shear_y, scale * np.sin(np.radians(angle)), ty]])\n",
    "\n",
    "img_affine = cv2.warpAffine(image, M, (512,512))\n",
    "\n",
    "cv2.imshow('Original Image', image)\n",
    "cv2.imshow('Affine Transformed Image', img_affine)\n",
    "cv2.waitKey(0)\n",
    "cv2.destroyAllWindows()"
   ]
  },
  {
   "cell_type": "code",
   "execution_count": 2,
   "metadata": {},
   "outputs": [],
   "source": [
    "import cv2\n",
    "import numpy as np\n",
    "\n",
    "image = cv2.imread('../images/Lenna.png')\n",
    "\n",
    "tx = 50\n",
    "ty = 200\n",
    "angle = -20\n",
    "scale = 200 / 512\n",
    "\n",
    "\n",
    "M = np.float32([[scale * np.cos(np.radians(angle)), -np.sin(np.radians(angle)), tx],\n",
    "                [np.sin(np.radians(angle)), scale * np.cos(np.radians(angle)), ty]])\n",
    "\n",
    "img_affine = cv2.warpAffine(image, M, (512,512))\n",
    "\n",
    "cv2.imshow('Original Image', image)\n",
    "cv2.imshow('Affine Transformed Image', img_affine)\n",
    "cv2.waitKey(0)\n",
    "cv2.destroyAllWindows()"
   ]
  }
 ],
 "metadata": {
  "kernelspec": {
   "display_name": "base",
   "language": "python",
   "name": "python3"
  },
  "language_info": {
   "codemirror_mode": {
    "name": "ipython",
    "version": 3
   },
   "file_extension": ".py",
   "mimetype": "text/x-python",
   "name": "python",
   "nbconvert_exporter": "python",
   "pygments_lexer": "ipython3",
   "version": "3.11.7"
  }
 },
 "nbformat": 4,
 "nbformat_minor": 2
}
