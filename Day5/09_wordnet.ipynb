{
 "cells": [
  {
   "cell_type": "code",
   "execution_count": 7,
   "metadata": {},
   "outputs": [],
   "source": [
    "from nltk.corpus import wordnet"
   ]
  },
  {
   "cell_type": "code",
   "execution_count": 8,
   "metadata": {},
   "outputs": [
    {
     "data": {
      "text/plain": [
       "<WordNetCorpusReader in 'C:\\\\Users\\\\Administrator.DAI-PC2\\\\AppData\\\\Roaming\\\\nltk_data\\\\corpora\\\\wordnet.zip/wordnet/'>"
      ]
     },
     "execution_count": 8,
     "metadata": {},
     "output_type": "execute_result"
    }
   ],
   "source": [
    "wordnet"
   ]
  },
  {
   "cell_type": "code",
   "execution_count": 16,
   "metadata": {},
   "outputs": [],
   "source": [
    "x=  wordnet.synsets('create')"
   ]
  },
  {
   "cell_type": "code",
   "execution_count": 17,
   "metadata": {},
   "outputs": [
    {
     "data": {
      "text/plain": [
       "[Synset('make.v.03'),\n",
       " Synset('create.v.02'),\n",
       " Synset('create.v.03'),\n",
       " Synset('create.v.04'),\n",
       " Synset('create.v.05'),\n",
       " Synset('produce.v.02')]"
      ]
     },
     "execution_count": 17,
     "metadata": {},
     "output_type": "execute_result"
    }
   ],
   "source": [
    "x"
   ]
  },
  {
   "cell_type": "code",
   "execution_count": 21,
   "metadata": {},
   "outputs": [],
   "source": [
    "synonyms = set()\n",
    "\n",
    "for word in wordnet.synsets('create'):\n",
    "    synonyms.add(word.lemmas()[0].name())"
   ]
  },
  {
   "cell_type": "code",
   "execution_count": 22,
   "metadata": {},
   "outputs": [
    {
     "data": {
      "text/plain": [
       "{'create', 'make', 'produce'}"
      ]
     },
     "execution_count": 22,
     "metadata": {},
     "output_type": "execute_result"
    }
   ],
   "source": [
    "synonyms"
   ]
  },
  {
   "cell_type": "code",
   "execution_count": 24,
   "metadata": {},
   "outputs": [
    {
     "name": "stdout",
     "output_type": "stream",
     "text": [
      "ocean\n",
      "ocean\n"
     ]
    }
   ],
   "source": [
    "synonyms = set()\n",
    "\n",
    "for word in wordnet.synsets('ocean'):\n",
    "    synonyms.add(word.lemmas()[0].name())\n",
    "    print(word.lemmas()[0].name())"
   ]
  },
  {
   "cell_type": "code",
   "execution_count": 25,
   "metadata": {},
   "outputs": [
    {
     "name": "stdout",
     "output_type": "stream",
     "text": [
      "good\n",
      "good\n",
      "good\n",
      "commodity\n",
      "good\n",
      "full\n",
      "good\n",
      "estimable\n",
      "beneficial\n",
      "good\n",
      "good\n",
      "adept\n",
      "good\n",
      "dear\n",
      "dependable\n",
      "good\n",
      "good\n",
      "effective\n",
      "good\n",
      "good\n",
      "good\n",
      "good\n",
      "good\n",
      "good\n",
      "good\n",
      "well\n",
      "thoroughly\n"
     ]
    }
   ],
   "source": [
    "synonyms = set()\n",
    "\n",
    "for word in wordnet.synsets('good'):\n",
    "    synonyms.add(word.lemmas()[0].name())\n",
    "    print(word.lemmas()[0].name())"
   ]
  },
  {
   "cell_type": "code",
   "execution_count": 26,
   "metadata": {},
   "outputs": [],
   "source": [
    "##### Defination and Examples"
   ]
  },
  {
   "cell_type": "code",
   "execution_count": 34,
   "metadata": {},
   "outputs": [
    {
     "name": "stdout",
     "output_type": "stream",
     "text": [
      "words and types :post.n.01\n",
      "Synonyspost\n",
      "The meaning fof words : the position where someone (as a guard or sentry) stands or is assigned to stand\n",
      "Example : ['a soldier manned the entrance post', 'a sentry station']\n"
     ]
    }
   ],
   "source": [
    "synset = wordnet.synsets('post')\n",
    "print(\"words and types :\" +synset[0].name())\n",
    "print('Synonys' +synset[0].lemmas()[0].name())\n",
    "print('The meaning fof words : ' +synset[0].definition())\n",
    "print('Example : ' +str(synset[0].examples()))"
   ]
  },
  {
   "cell_type": "code",
   "execution_count": 35,
   "metadata": {},
   "outputs": [
    {
     "name": "stdout",
     "output_type": "stream",
     "text": [
      "sound.v.01\n",
      "sound.v.02\n",
      "sound.v.03\n",
      "sound.v.04\n",
      "voice.v.02\n",
      "sound.v.06\n",
      "fathom.v.02\n"
     ]
    }
   ],
   "source": [
    "for word in wordnet.synsets('sound',pos ='v'):\n",
    "    print(word.name())\n"
   ]
  },
  {
   "cell_type": "code",
   "execution_count": 36,
   "metadata": {},
   "outputs": [
    {
     "name": "stdout",
     "output_type": "stream",
     "text": [
      "sound.n.01\n",
      "sound.n.02\n",
      "sound.n.03\n",
      "sound.n.04\n",
      "audio.n.01\n",
      "phone.n.02\n",
      "strait.n.01\n",
      "sound.n.08\n"
     ]
    }
   ],
   "source": [
    "for word in wordnet.synsets('sound',pos ='n'):\n",
    "    print(word.name())\n"
   ]
  },
  {
   "cell_type": "code",
   "execution_count": 44,
   "metadata": {},
   "outputs": [
    {
     "name": "stdout",
     "output_type": "stream",
     "text": [
      "an adult person who is male (as opposed to a woman)\n",
      "someone who serves in the armed forces; a member of a military force\n",
      "the generic use of the word to refer to any human being\n",
      "any living or extinct member of the family Hominidae characterized by superior intelligence, articulate speech, and erect carriage\n",
      "a male subordinate\n",
      "an adult male person who has a manly character (virile and courageous competent)\n",
      "a manservant who acts as a personal attendant to his employer\n",
      "a male person who plays a significant role (husband or lover or boyfriend) in the life of a particular woman\n",
      "one of the British Isles in the Irish Sea\n",
      "game equipment consisting of an object used in playing certain board games\n",
      "all of the living human inhabitants of the earth\n"
     ]
    }
   ],
   "source": [
    "##read a word from user and print all the meaning of i t\n",
    "### read a word from user and print all noun meaning of it \n",
    "import nltk\n",
    "from nltk.corpus import wordnet\n",
    "word = input(\"Enter a word: \")\n",
    "synsets = wordnet.synsets(word)\n",
    "for synset in synsets:\n",
    "    if synset.pos() == 'n':\n",
    "        print(synset.definition())\n",
    "    "
   ]
  },
  {
   "cell_type": "code",
   "execution_count": 48,
   "metadata": {},
   "outputs": [
    {
     "name": "stdout",
     "output_type": "stream",
     "text": [
      "Meaning of word Man are\n",
      "man.n.01-->an adult person who is male (as opposed to a woman)\n",
      "serviceman.n.01-->someone who serves in the armed forces; a member of a military force\n",
      "man.n.03-->the generic use of the word to refer to any human being\n",
      "homo.n.02-->any living or extinct member of the family Hominidae characterized by superior intelligence, articulate speech, and erect carriage\n",
      "man.n.05-->a male subordinate\n",
      "man.n.06-->an adult male person who has a manly character (virile and courageous competent)\n",
      "valet.n.01-->a manservant who acts as a personal attendant to his employer\n",
      "man.n.08-->a male person who plays a significant role (husband or lover or boyfriend) in the life of a particular woman\n",
      "man.n.09-->one of the British Isles in the Irish Sea\n",
      "man.n.10-->game equipment consisting of an object used in playing certain board games\n",
      "world.n.08-->all of the living human inhabitants of the earth\n"
     ]
    }
   ],
   "source": [
    "word = input('Enter yhe word')\n",
    "print('Meaning of word', word, 'are')\n",
    "\n",
    "for word in wordnet.synsets(word, pos= 'n'):\n",
    "    print(word.name()+ \"-->\"  + word.definition())"
   ]
  },
  {
   "cell_type": "code",
   "execution_count": 49,
   "metadata": {},
   "outputs": [],
   "source": [
    "##### Extract specific position "
   ]
  },
  {
   "cell_type": "code",
   "execution_count": 54,
   "metadata": {},
   "outputs": [],
   "source": [
    "verbs  = set()\n",
    "nouns = set()\n",
    "adj = set()\n",
    "\n",
    "for word in wordnet.synsets('sound', pos='n'):\n",
    "    nouns.add(word.lemmas()[0].name())\n",
    "\n",
    "for word in wordnet.synsets('sound', pos='v'):\n",
    "    verbs.add(word.lemmas()[0].name())\n",
    "for word in wordnet.synsets('sound', pos='a'):\n",
    "    adj.add(word.lemmas()[0].name())\n",
    "\n"
   ]
  },
  {
   "cell_type": "code",
   "execution_count": 55,
   "metadata": {},
   "outputs": [
    {
     "data": {
      "text/plain": [
       "{'fathom', 'sound', 'voice'}"
      ]
     },
     "execution_count": 55,
     "metadata": {},
     "output_type": "execute_result"
    }
   ],
   "source": [
    "verbs "
   ]
  },
  {
   "cell_type": "code",
   "execution_count": 56,
   "metadata": {},
   "outputs": [
    {
     "data": {
      "text/plain": [
       "{'audio', 'phone', 'sound', 'strait'}"
      ]
     },
     "execution_count": 56,
     "metadata": {},
     "output_type": "execute_result"
    }
   ],
   "source": [
    "nouns"
   ]
  },
  {
   "cell_type": "code",
   "execution_count": 57,
   "metadata": {},
   "outputs": [
    {
     "data": {
      "text/plain": [
       "{'good', 'healthy', 'heavy', 'legal', 'reasoned', 'sound'}"
      ]
     },
     "execution_count": 57,
     "metadata": {},
     "output_type": "execute_result"
    }
   ],
   "source": [
    "adj"
   ]
  },
  {
   "cell_type": "code",
   "execution_count": 58,
   "metadata": {},
   "outputs": [],
   "source": [
    "####### find antonyms of words\n"
   ]
  },
  {
   "cell_type": "code",
   "execution_count": 63,
   "metadata": {},
   "outputs": [
    {
     "name": "stdout",
     "output_type": "stream",
     "text": [
      "Antonyms:  {'actual', 'impossible'}\n"
     ]
    }
   ],
   "source": [
    "ant  = set()\n",
    "\n",
    "for synset in wordnet.synsets('possible'):\n",
    "    for lemma in synset.lemmas():\n",
    "        if lemma.antonyms():  # Whn antonyms are available , addd them into the list\n",
    "            ant.add(lemma.antonyms()[0].name())\n",
    "\n",
    "print('Antonyms: ', ant)\n"
   ]
  },
  {
   "cell_type": "code",
   "execution_count": null,
   "metadata": {},
   "outputs": [],
   "source": []
  },
  {
   "cell_type": "markdown",
   "metadata": {},
   "source": [
    "#### Extract hypernyms"
   ]
  },
  {
   "cell_type": "code",
   "execution_count": 67,
   "metadata": {},
   "outputs": [
    {
     "name": "stdout",
     "output_type": "stream",
     "text": [
      "paper is a hypernym of material.n.01\n",
      "paper is a hypernym of essay.n.01\n",
      "paper is a hypernym of press.n.02\n",
      "paper is a hypernym of medium.n.01\n",
      "paper is a hypernym of article.n.01\n",
      "paper is a hypernym of publisher.n.01\n",
      "paper is a hypernym of product.n.02\n",
      "paper is a hypernym of cover.v.01\n",
      "paper is a hypernym of cover.v.01\n"
     ]
    }
   ],
   "source": [
    "word = 'paper'\n",
    "synsets = wordnet.synsets(word)\n",
    "\n",
    "\n",
    "for synset in synsets:\n",
    "\n",
    "    # get hypernyms ( parane concept)\n",
    "    hypernyms = synset.hypernyms()\n",
    "\n",
    "    # Check if there are any hypernyms\n",
    "    if hypernyms:\n",
    "        # print hypernyms ( Can access name property for text)\n",
    "\n",
    "        for hypernym in hypernyms:\n",
    "            print(f\"{word} is a hypernym of {hypernym.name()}\")"
   ]
  },
  {
   "cell_type": "code",
   "execution_count": 68,
   "metadata": {},
   "outputs": [
    {
     "name": "stdout",
     "output_type": "stream",
     "text": [
      "water is a hypernym of binary_compound.n.01\n",
      "water is a hypernym of liquid.n.03\n",
      "water is a hypernym of thing.n.12\n",
      "water is a hypernym of element.n.05\n",
      "water is a hypernym of facility.n.01\n",
      "water is a hypernym of body_waste.n.01\n",
      "water is a hypernym of food.n.01\n",
      "water is a hypernym of liquid.n.01\n",
      "water is a hypernym of nutrient.n.02\n",
      "water is a hypernym of wet.v.01\n",
      "water is a hypernym of supply.v.01\n",
      "water is a hypernym of secrete.v.01\n",
      "water is a hypernym of fill.v.02\n"
     ]
    }
   ],
   "source": [
    "word = 'water'\n",
    "synsets = wordnet.synsets(word)\n",
    "\n",
    "\n",
    "for synset in synsets:\n",
    "\n",
    "    # get hypernyms ( parane concept)\n",
    "    hypernyms = synset.hypernyms()\n",
    "\n",
    "    # Check if there are any hypernyms\n",
    "    if hypernyms:\n",
    "        # print hypernyms ( Can access name property for text)\n",
    "\n",
    "        for hypernym in hypernyms:\n",
    "            print(f\"{word} is a hypernym of {hypernym.name()}\")"
   ]
  },
  {
   "cell_type": "code",
   "execution_count": 69,
   "metadata": {},
   "outputs": [
    {
     "name": "stdout",
     "output_type": "stream",
     "text": [
      "soil is a hypernym of dirtiness.n.01\n",
      "soil is a hypernym of earth.n.02\n",
      "soil is a hypernym of object.n.01\n",
      "soil is a hypernym of geographical_area.n.01\n",
      "soil is a hypernym of change.v.01\n"
     ]
    }
   ],
   "source": [
    "word = 'soil'\n",
    "synsets = wordnet.synsets(word)\n",
    "\n",
    "\n",
    "for synset in synsets:\n",
    "\n",
    "    # get hypernyms ( parane concept)\n",
    "    hypernyms = synset.hypernyms()\n",
    "\n",
    "    # Check if there are any hypernyms\n",
    "    if hypernyms:\n",
    "        # print hypernyms ( Can access name property for text)\n",
    "\n",
    "        for hypernym in hypernyms:\n",
    "            print(f\"{word} is a hypernym of {hypernym.name()}\")"
   ]
  },
  {
   "cell_type": "markdown",
   "metadata": {},
   "source": [
    "##### Extract tje meronym"
   ]
  },
  {
   "cell_type": "code",
   "execution_count": 75,
   "metadata": {},
   "outputs": [
    {
     "name": "stdout",
     "output_type": "stream",
     "text": [
      " wheel has a meronyms : felloe.n.01\n",
      " wheel has a meronyms : rim.n.03\n",
      " wheel has a meronyms : bicycle_seat.n.01\n",
      " wheel has a meronyms : bicycle_wheel.n.01\n",
      " wheel has a meronyms : chain.n.03\n",
      " wheel has a meronyms : coaster_brake.n.01\n",
      " wheel has a meronyms : handlebar.n.01\n",
      " wheel has a meronyms : kickstand.n.01\n",
      " wheel has a meronyms : mudguard.n.01\n",
      " wheel has a meronyms : pedal.n.02\n",
      " wheel has a meronyms : sprocket.n.02\n"
     ]
    }
   ],
   "source": [
    "\n",
    "synsets = wordnet.synsets('wheel')\n",
    "\n",
    "for synset in synsets:\n",
    "    # Get memeber meronyms (componnts parts)\n",
    "    meronyms = synset.part_meronyms()\n",
    "\n",
    "    # Chek if there are any meronyms\n",
    "    if meronyms:\n",
    "        # Print meronyms (can acces name prperty for text)\n",
    "        for meronym in meronyms:\n",
    "            print(f\" wheel has a meronyms : {meronym.name()}\")"
   ]
  },
  {
   "cell_type": "code",
   "execution_count": 76,
   "metadata": {},
   "outputs": [
    {
     "name": "stdout",
     "output_type": "stream",
     "text": [
      " car has a meronyms : accelerator.n.01\n",
      " car has a meronyms : air_bag.n.01\n",
      " car has a meronyms : auto_accessory.n.01\n",
      " car has a meronyms : automobile_engine.n.01\n",
      " car has a meronyms : automobile_horn.n.01\n",
      " car has a meronyms : buffer.n.06\n",
      " car has a meronyms : bumper.n.02\n",
      " car has a meronyms : car_door.n.01\n",
      " car has a meronyms : car_mirror.n.01\n",
      " car has a meronyms : car_seat.n.01\n",
      " car has a meronyms : car_window.n.01\n",
      " car has a meronyms : fender.n.01\n",
      " car has a meronyms : first_gear.n.01\n",
      " car has a meronyms : floorboard.n.02\n",
      " car has a meronyms : gasoline_engine.n.01\n",
      " car has a meronyms : glove_compartment.n.01\n",
      " car has a meronyms : grille.n.02\n",
      " car has a meronyms : high_gear.n.01\n",
      " car has a meronyms : hood.n.09\n",
      " car has a meronyms : luggage_compartment.n.01\n",
      " car has a meronyms : rear_window.n.01\n",
      " car has a meronyms : reverse.n.02\n",
      " car has a meronyms : roof.n.02\n",
      " car has a meronyms : running_board.n.01\n",
      " car has a meronyms : stabilizer_bar.n.01\n",
      " car has a meronyms : sunroof.n.01\n",
      " car has a meronyms : tail_fin.n.02\n",
      " car has a meronyms : third_gear.n.01\n",
      " car has a meronyms : window.n.02\n",
      " car has a meronyms : suspension.n.05\n"
     ]
    }
   ],
   "source": [
    "synsets = wordnet.synsets('car')\n",
    "\n",
    "for synset in synsets:\n",
    "    # Get memeber meronyms (componnts parts)\n",
    "    meronyms = synset.part_meronyms()\n",
    "\n",
    "    # Chek if there are any meronyms\n",
    "    if meronyms:\n",
    "        # Print meronyms (can acces name prperty for text)\n",
    "        for meronym in meronyms:\n",
    "            print(f\" car has a meronyms : {meronym.name()}\")"
   ]
  },
  {
   "cell_type": "code",
   "execution_count": null,
   "metadata": {},
   "outputs": [],
   "source": []
  }
 ],
 "metadata": {
  "kernelspec": {
   "display_name": "base",
   "language": "python",
   "name": "python3"
  },
  "language_info": {
   "codemirror_mode": {
    "name": "ipython",
    "version": 3
   },
   "file_extension": ".py",
   "mimetype": "text/x-python",
   "name": "python",
   "nbconvert_exporter": "python",
   "pygments_lexer": "ipython3",
   "version": "3.11.7"
  }
 },
 "nbformat": 4,
 "nbformat_minor": 2
}
