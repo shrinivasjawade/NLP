{
 "cells": [
  {
   "cell_type": "markdown",
   "metadata": {},
   "source": [
    "### Install Libraries"
   ]
  },
  {
   "cell_type": "code",
   "execution_count": 2,
   "metadata": {},
   "outputs": [
    {
     "name": "stdout",
     "output_type": "stream",
     "text": [
      "Collecting sumy\n",
      "  Downloading sumy-0.11.0-py2.py3-none-any.whl.metadata (7.5 kB)\n",
      "Collecting transforms\n",
      "  Downloading transforms-0.2.1-py3-none-any.whl.metadata (1.8 kB)\n",
      "Collecting docopt<0.7,>=0.6.1 (from sumy)\n",
      "  Downloading docopt-0.6.2.tar.gz (25 kB)\n",
      "  Preparing metadata (setup.py): started\n",
      "  Preparing metadata (setup.py): finished with status 'done'\n",
      "Collecting breadability>=0.1.20 (from sumy)\n",
      "  Downloading breadability-0.1.20.tar.gz (32 kB)\n",
      "  Preparing metadata (setup.py): started\n",
      "  Preparing metadata (setup.py): finished with status 'done'\n",
      "Requirement already satisfied: requests>=2.7.0 in c:\\users\\administrator.dai-pc2\\anaconda3\\lib\\site-packages (from sumy) (2.31.0)\n",
      "Collecting pycountry>=18.2.23 (from sumy)\n",
      "  Downloading pycountry-24.6.1-py3-none-any.whl.metadata (12 kB)\n",
      "Requirement already satisfied: nltk>=3.0.2 in c:\\users\\administrator.dai-pc2\\anaconda3\\lib\\site-packages (from sumy) (3.8.1)\n",
      "Requirement already satisfied: chardet in c:\\users\\administrator.dai-pc2\\anaconda3\\lib\\site-packages (from breadability>=0.1.20->sumy) (4.0.0)\n",
      "Requirement already satisfied: lxml>=2.0 in c:\\users\\administrator.dai-pc2\\anaconda3\\lib\\site-packages (from breadability>=0.1.20->sumy) (4.9.3)\n",
      "Requirement already satisfied: click in c:\\users\\administrator.dai-pc2\\anaconda3\\lib\\site-packages (from nltk>=3.0.2->sumy) (8.1.7)\n",
      "Requirement already satisfied: joblib in c:\\users\\administrator.dai-pc2\\anaconda3\\lib\\site-packages (from nltk>=3.0.2->sumy) (1.2.0)\n",
      "Requirement already satisfied: regex>=2021.8.3 in c:\\users\\administrator.dai-pc2\\anaconda3\\lib\\site-packages (from nltk>=3.0.2->sumy) (2023.10.3)\n",
      "Requirement already satisfied: tqdm in c:\\users\\administrator.dai-pc2\\anaconda3\\lib\\site-packages (from nltk>=3.0.2->sumy) (4.66.4)\n",
      "Requirement already satisfied: charset-normalizer<4,>=2 in c:\\users\\administrator.dai-pc2\\anaconda3\\lib\\site-packages (from requests>=2.7.0->sumy) (2.0.4)\n",
      "Requirement already satisfied: idna<4,>=2.5 in c:\\users\\administrator.dai-pc2\\anaconda3\\lib\\site-packages (from requests>=2.7.0->sumy) (3.4)\n",
      "Requirement already satisfied: urllib3<3,>=1.21.1 in c:\\users\\administrator.dai-pc2\\anaconda3\\lib\\site-packages (from requests>=2.7.0->sumy) (2.0.7)\n",
      "Requirement already satisfied: certifi>=2017.4.17 in c:\\users\\administrator.dai-pc2\\anaconda3\\lib\\site-packages (from requests>=2.7.0->sumy) (2024.2.2)\n",
      "Requirement already satisfied: colorama in c:\\users\\administrator.dai-pc2\\anaconda3\\lib\\site-packages (from click->nltk>=3.0.2->sumy) (0.4.6)\n",
      "Downloading sumy-0.11.0-py2.py3-none-any.whl (97 kB)\n",
      "   ---------------------------------------- 0.0/97.3 kB ? eta -:--:--\n",
      "   ------------------------------------- -- 92.2/97.3 kB ? eta -:--:--\n",
      "   ---------------------------------------- 97.3/97.3 kB 2.8 MB/s eta 0:00:00\n",
      "Downloading transforms-0.2.1-py3-none-any.whl (18 kB)\n",
      "Downloading pycountry-24.6.1-py3-none-any.whl (6.3 MB)\n",
      "   ---------------------------------------- 0.0/6.3 MB ? eta -:--:--\n",
      "   -- ------------------------------------- 0.4/6.3 MB 12.6 MB/s eta 0:00:01\n",
      "   ----- ---------------------------------- 0.8/6.3 MB 12.7 MB/s eta 0:00:01\n",
      "   ------- -------------------------------- 1.2/6.3 MB 9.5 MB/s eta 0:00:01\n",
      "   ---------- ----------------------------- 1.7/6.3 MB 10.6 MB/s eta 0:00:01\n",
      "   ------------ --------------------------- 2.0/6.3 MB 9.0 MB/s eta 0:00:01\n",
      "   ------------- -------------------------- 2.2/6.3 MB 8.8 MB/s eta 0:00:01\n",
      "   --------------- ------------------------ 2.5/6.3 MB 7.6 MB/s eta 0:00:01\n",
      "   ------------------ --------------------- 2.9/6.3 MB 7.8 MB/s eta 0:00:01\n",
      "   ------------------- -------------------- 3.1/6.3 MB 7.6 MB/s eta 0:00:01\n",
      "   ---------------------- ----------------- 3.5/6.3 MB 7.4 MB/s eta 0:00:01\n",
      "   ----------------------- ---------------- 3.7/6.3 MB 7.3 MB/s eta 0:00:01\n",
      "   ------------------------- -------------- 4.0/6.3 MB 7.3 MB/s eta 0:00:01\n",
      "   -------------------------- ------------- 4.2/6.3 MB 7.1 MB/s eta 0:00:01\n",
      "   ---------------------------- ----------- 4.5/6.3 MB 7.0 MB/s eta 0:00:01\n",
      "   ----------------------------- ---------- 4.7/6.3 MB 6.8 MB/s eta 0:00:01\n",
      "   ------------------------------- -------- 5.0/6.3 MB 7.0 MB/s eta 0:00:01\n",
      "   --------------------------------- ------ 5.3/6.3 MB 6.9 MB/s eta 0:00:01\n",
      "   ----------------------------------- ---- 5.7/6.3 MB 7.0 MB/s eta 0:00:01\n",
      "   ------------------------------------- -- 5.9/6.3 MB 6.9 MB/s eta 0:00:01\n",
      "   ---------------------------------------  6.2/6.3 MB 7.0 MB/s eta 0:00:01\n",
      "   ---------------------------------------  6.3/6.3 MB 6.9 MB/s eta 0:00:01\n",
      "   ---------------------------------------- 6.3/6.3 MB 6.6 MB/s eta 0:00:00\n",
      "Building wheels for collected packages: breadability, docopt\n",
      "  Building wheel for breadability (setup.py): started\n",
      "  Building wheel for breadability (setup.py): finished with status 'done'\n",
      "  Created wheel for breadability: filename=breadability-0.1.20-py2.py3-none-any.whl size=21739 sha256=34b7937cee8107ef8dac7a87d6b5935a2d06833501fa8190f4989c2289d3cc80\n",
      "  Stored in directory: c:\\users\\administrator.dai-pc2\\appdata\\local\\pip\\cache\\wheels\\4d\\57\\58\\7e3d7fedf51fe248b7fcee3df6945ae28638e22cddf01eb92b\n",
      "  Building wheel for docopt (setup.py): started\n",
      "  Building wheel for docopt (setup.py): finished with status 'done'\n",
      "  Created wheel for docopt: filename=docopt-0.6.2-py2.py3-none-any.whl size=13773 sha256=aca6c6d70288348a24180028fd4c970429834419cf3c35974e75dab51c6168b3\n",
      "  Stored in directory: c:\\users\\administrator.dai-pc2\\appdata\\local\\pip\\cache\\wheels\\1a\\b0\\8c\\4b75c4116c31f83c8f9f047231251e13cc74481cca4a78a9ce\n",
      "Successfully built breadability docopt\n",
      "Installing collected packages: docopt, transforms, pycountry, breadability, sumy\n",
      "Successfully installed breadability-0.1.20 docopt-0.6.2 pycountry-24.6.1 sumy-0.11.0 transforms-0.2.1\n",
      "Note: you may need to restart the kernel to use updated packages.\n"
     ]
    }
   ],
   "source": [
    "pip install sumy transforms"
   ]
  },
  {
   "cell_type": "code",
   "execution_count": 7,
   "metadata": {},
   "outputs": [],
   "source": [
    "# Import the calss\n",
    "\n",
    "from sumy.summarizers.text_rank import TextRankSummarizer"
   ]
  },
  {
   "cell_type": "code",
   "execution_count": 20,
   "metadata": {},
   "outputs": [],
   "source": [
    "# Import parser  and tokenization\n",
    "from sumy.parsers.plaintext import PlaintextParser\n",
    "from sumy.nlp.tokenizers import Tokenizer"
   ]
  },
  {
   "cell_type": "code",
   "execution_count": 12,
   "metadata": {},
   "outputs": [],
   "source": [
    "text  = '''The tiger (Panthera tigris) is the largest living cat species and a member of the genus Panthera native to Asia. It has a powerful, muscular body with a large head and paws, a long tail, and orange fur with black, mostly vertical stripes. It is traditionally classified into nine recent subspecies, though some recognise only two subspecies, mainland Asian tigers and island tigers of the Sunda Islands.\n",
    "\n",
    "Throughout the tiger's range, it inhabits mainly forests, from coniferous and temperate broadleaf and mixed forests in the Russian Far East and Northeast China to tropical and subtropical moist broadleaf forests on the Indian subcontinent and Southeast Asia. The tiger is an apex predator and preys mainly on ungulates such as deer and wild boar, which it takes by ambush. It lives a mostly solitary life and occupies home ranges, which it defends from individuals of the same sex. The range of a male tiger overlaps with that of multiple females with whom he has reproductive claims. Females give birth to usually two or three cubs that stay with their mother for about two years. When becoming independent, they leave their mother's home range and establish their own.\n",
    "\n",
    "Since the early 20th century, tiger populations have lost at least 93% of their historic range and are locally extinct in West and Central Asia, in large areas of China, and on the islands of Java and Bali. Today, the tiger's range is severely fragmented. It is listed as Endangered on the IUCN Red List of Threatened Species, as its range is thought to have declined by 53% to 68% since the late 1990s. Major reasons for this decline are habitat destruction and fragmentation due to deforestation, poaching for fur, and the illegal trade of tiger body parts for medicinal purposes. Tigers are also victims of human–wildlife conflict for attacking and preying on livestock in areas, where natural prey is scarce. The species is legally protected in all range countries, which have ratified conservation action plans, established anti-poaching patrols and schemes for monitoring tiger populations.\n",
    "\n",
    "\n",
    "The tiger is among the most popular of the world's charismatic megafauna. It has been kept in captivity since ancient times and has been trained to perform in circuses and other entertainment shows. The tiger featured prominently in the ancient mythology and folklore of cultures throughout its historic range and has continued to appear in culture worldwide.'''"
   ]
  },
  {
   "cell_type": "code",
   "execution_count": null,
   "metadata": {},
   "outputs": [],
   "source": []
  },
  {
   "cell_type": "code",
   "execution_count": 13,
   "metadata": {},
   "outputs": [
    {
     "data": {
      "text/plain": [
       "18"
      ]
     },
     "execution_count": 13,
     "metadata": {},
     "output_type": "execute_result"
    }
   ],
   "source": [
    "from nltk.tokenize import sent_tokenize\n",
    "sents = sent_tokenize(text)\n",
    "len(sents)"
   ]
  },
  {
   "cell_type": "code",
   "execution_count": 14,
   "metadata": {},
   "outputs": [
    {
     "data": {
      "text/plain": [
       "['The tiger (Panthera tigris) is the largest living cat species and a member of the genus Panthera native to Asia.',\n",
       " 'It has a powerful, muscular body with a large head and paws, a long tail, and orange fur with black, mostly vertical stripes.',\n",
       " 'It is traditionally classified into nine recent subspecies, though some recognise only two subspecies, mainland Asian tigers and island tigers of the Sunda Islands.',\n",
       " \"Throughout the tiger's range, it inhabits mainly forests, from coniferous and temperate broadleaf and mixed forests in the Russian Far East and Northeast China to tropical and subtropical moist broadleaf forests on the Indian subcontinent and Southeast Asia.\",\n",
       " 'The tiger is an apex predator and preys mainly on ungulates such as deer and wild boar, which it takes by ambush.',\n",
       " 'It lives a mostly solitary life and occupies home ranges, which it defends from individuals of the same sex.',\n",
       " 'The range of a male tiger overlaps with that of multiple females with whom he has reproductive claims.',\n",
       " 'Females give birth to usually two or three cubs that stay with their mother for about two years.',\n",
       " \"When becoming independent, they leave their mother's home range and establish their own.\",\n",
       " 'Since the early 20th century, tiger populations have lost at least 93% of their historic range and are locally extinct in West and Central Asia, in large areas of China, and on the islands of Java and Bali.',\n",
       " \"Today, the tiger's range is severely fragmented.\",\n",
       " 'It is listed as Endangered on the IUCN Red List of Threatened Species, as its range is thought to have declined by 53% to 68% since the late 1990s.',\n",
       " 'Major reasons for this decline are habitat destruction and fragmentation due to deforestation, poaching for fur, and the illegal trade of tiger body parts for medicinal purposes.',\n",
       " 'Tigers are also victims of human–wildlife conflict for attacking and preying on livestock in areas, where natural prey is scarce.',\n",
       " 'The species is legally protected in all range countries, which have ratified conservation action plans, established anti-poaching patrols and schemes for monitoring tiger populations.',\n",
       " \"The tiger is among the most popular of the world's charismatic megafauna.\",\n",
       " 'It has been kept in captivity since ancient times and has been trained to perform in circuses and other entertainment shows.',\n",
       " 'The tiger featured prominently in the ancient mythology and folklore of cultures throughout its historic range and has continued to appear in culture worldwide.']"
      ]
     },
     "execution_count": 14,
     "metadata": {},
     "output_type": "execute_result"
    }
   ],
   "source": [
    "sents"
   ]
  },
  {
   "cell_type": "code",
   "execution_count": 21,
   "metadata": {},
   "outputs": [],
   "source": [
    "# Intializer the parser\n",
    "my_parser = PlaintextParser.from_string(text, Tokenizer('english'))"
   ]
  },
  {
   "cell_type": "code",
   "execution_count": 22,
   "metadata": {},
   "outputs": [],
   "source": [
    "# Create the object of summarization\n",
    "text_rank_summarizer = TextRankSummarizer()"
   ]
  },
  {
   "cell_type": "code",
   "execution_count": 24,
   "metadata": {},
   "outputs": [],
   "source": [
    "# Extract top 3 sentence\n",
    "summary = text_rank_summarizer(my_parser.document, sentences_count = 3)"
   ]
  },
  {
   "cell_type": "code",
   "execution_count": 25,
   "metadata": {},
   "outputs": [
    {
     "name": "stdout",
     "output_type": "stream",
     "text": [
      "Throughout the tiger's range, it inhabits mainly forests, from coniferous and temperate broadleaf and mixed forests in the Russian Far East and Northeast China to tropical and subtropical moist broadleaf forests on the Indian subcontinent and Southeast Asia. \n",
      "\n",
      "Since the early 20th century, tiger populations have lost at least 93% of their historic range and are locally extinct in West and Central Asia, in large areas of China, and on the islands of Java and Bali. \n",
      "\n",
      "The tiger featured prominently in the ancient mythology and folklore of cultures throughout its historic range and has continued to appear in culture worldwide. \n",
      "\n"
     ]
    }
   ],
   "source": [
    "for sent in summary:\n",
    "    print(sent, '\\n')"
   ]
  },
  {
   "cell_type": "markdown",
   "metadata": {},
   "source": [
    "### Lex Rank"
   ]
  },
  {
   "cell_type": "code",
   "execution_count": 27,
   "metadata": {},
   "outputs": [],
   "source": [
    "# Import the calss\n",
    "\n",
    "from sumy.summarizers.lex_rank import LexRankSummarizer\n",
    "\n",
    "# Import parser  and tokenization\n",
    "from sumy.parsers.plaintext import PlaintextParser\n",
    "from sumy.nlp.tokenizers import Tokenizer\n"
   ]
  },
  {
   "cell_type": "code",
   "execution_count": 28,
   "metadata": {},
   "outputs": [],
   "source": [
    "# Create the object of summarization\n",
    "lex_rank_summarozation = LexRankSummarizer()"
   ]
  },
  {
   "cell_type": "code",
   "execution_count": 31,
   "metadata": {},
   "outputs": [],
   "source": [
    "# Extract top 3 sentence\n",
    "summary = lex_rank_summarozation(my_parser.document, sentences_count = 3)"
   ]
  },
  {
   "cell_type": "code",
   "execution_count": 32,
   "metadata": {},
   "outputs": [
    {
     "name": "stdout",
     "output_type": "stream",
     "text": [
      "It has a powerful, muscular body with a large head and paws, a long tail, and orange fur with black, mostly vertical stripes. \n",
      "\n",
      "Females give birth to usually two or three cubs that stay with their mother for about two years. \n",
      "\n",
      "Since the early 20th century, tiger populations have lost at least 93% of their historic range and are locally extinct in West and Central Asia, in large areas of China, and on the islands of Java and Bali. \n",
      "\n"
     ]
    }
   ],
   "source": [
    "for sent in summary:\n",
    "    print(sent, '\\n')"
   ]
  },
  {
   "cell_type": "code",
   "execution_count": 45,
   "metadata": {},
   "outputs": [],
   "source": [
    "htext = '''जीवन शैली\n",
    "इसे वन, दलदली क्षेत्र तथा घास के मैदानों के पास रहना पसंद है। इसका आहार मुख्य रूप से सांभर, चीतल, जंगली सूअर, भैंसे जंगली हिरण, गौर और मनुष्य के पालतू पशु हैं। अपने बड़े वजन और ताकत के अलावा बाघ अपनी धारियों से पहचाना जा सकता है। बाघ की सुनने, सूँघने और देखने की क्षमता तीव्र होती है। बाघ अक्सर पीछे से हमला करता है। धारीदार शरीर के कारण शिकार का पीछा करते समय वह झाड़ियों के बीच इस प्रकार छिपा रहता है कि शिकार उसे देख ही नहीं पाता। बाघ बड़ी एकाग्रता और धीरज से शिकार करता है। यद्यपि वह बहुत तेज रफ्तार से दौड़ सकता है, भारी-भरकम शरीर के कारण वह बहुत जल्द थक जाता है। इसलिए शिकार को लंबी दूरी तक पीछा करना उसके बस की बात नहीं है। वह छिपकर शिकार के बहुत निकट तक पहुँचता है और फिर एक दम से उस पर कूद पड़ता है। यदि कुछ गज की दूरी में ही शिकार को दबोच न सका, तो वह उसे छोड़ देता है। हर बीस प्रयासों में उसे औसतन केवल एक बार ही सफलता हाथ लगती है क्योंकि कुदरत ने बाघ की हर चाल की तोड़ शिकार बननेवाले प्राणियों को दी है। बाघ सामान्यतः दिन में चीतल, जंगली सूअर और कभी-कभी गौर के बच्चों का शिकार करता है। बाघ अधिकतर अकेले ही रहता है। हर बाघ का अपना एक निश्चित क्षेत्र होता है। केवल प्रजननकाल में नर मादा इकट्ठा होते हैं।[3] लगभग साढ़े तीन महीने का गर्भाधान काल होता है और एक बार में २-३ शावक जन्म लेते हैं। बाघिन अपने बच्चे के साथ रहती है। बाघ के बच्चे शिकार पकड़ने की कला अपनी माँ से सीखते हैं। ढाई वर्ष के बाद ये स्वतंत्र रहने लगते हैं। इसकी आयु लगभग १९ वर्ष होती है।\n",
    "\n",
    "संरक्षण\n",
    "बाघ एक अत्यंत संकटग्रस्त प्राणी है। इसे वास स्थलों की क्षति और अवैध शिकार का संकट बना ही रहता है। पूरी दुनिया में उसकी संख्या ६,००० से भी कम है। उनमें से लगभग ४,००० भारत में पाए जाते हैं। भारत के बाघ को एक अलग प्रजाति माना जाता है, जिसका वैज्ञानिक नाम है पेंथेरा टाइग्रिस टाइग्रिस। बाघ की नौ प्रजातियों में से तीन अब विलुप्त हो चुकी हैं। ज्ञात आठ किस्‍मों की प्रजाति में से रायल बंगाल टाइगर उत्‍तर पूर्वी क्षेत्रों को छोड़कर देश भर में पाया जाता है और पड़ोसी देशों में भी पाया जाता है, जैसे नेपाल, भूटान और बांगलादेश। भारत में बाघों की घटती जनसंख्‍या की जांच करने के लिए अप्रैल १९७३ में प्रोजेक्‍ट टाइगर (बाघ परियोजना) शुरू की गई। अब तक इस परियोजना के अधीन बाघ के २७ आरक्षित क्षेत्रों की स्‍थापना की गई है जिनमें ३७,७६१ वर्ग कि॰मी॰ क्षेत्र शामिल है।[4]\n",
    "\n",
    "इतिहास\n",
    "\n",
    "भारतीय बाघ अपने प्राकृतिक आवास में\n",
    "बाघ के पूर्वजों के चीन में रहने के निशान मिले हैं। हाल ही में मिले बाघ की एक विलुप्त उप प्रजाति के डीएनए से पता चला है कि बाघ के पूर्वज मध्य चीन से भारत आए थे। वे जिस रास्ते से भारत आए थे कई शताब्दियों बाद इसी रास्ते को रेशम मार्ग (सिल्क रूट) के नाम से जाना गया। आक्सफोर्ड यूनिवर्सिटी और अमेरिका में एनसीआई लेबोरेट्री ऑफ जीनोमिक डाइवर्सिटी के वैज्ञानिकों के मुताबिक[2] १९७० में विलुप्त हो जाने वाले मध्य एशिया के कैस्पियन बाघ व रूस के सुदूर पूर्व में मिलने वाले साइबेरियाई या एमुर बाघ एक जैसे हैं। इस खोज से यह पता चलता है कि किस तरह बाघ मध्य एशिया और रूस पहुंचे। आक्सफोर्ड के वाइल्ड लाइफ रिसर्च कंजरवेशन यूनिट के एक शोधकर्ता कार्लोस ड्रिस्काल के अनुसार विलुप्त कैस्पियन और आज के साइबेरियाई बाघ सबसे नजदीकी प्रजातियां हैं। इसका मतलब है कि कैस्पियन बाघ कभी विलुप्त नहीं हुए। अध्ययन के हवाले से कहा गया है कि ४० साल पहले विलुप्त हो गए कैस्पियन बाघों का ठीक से अध्ययन नहीं किया जा सका था। इसलिए हमें डीएनए नमूनों को फिर से प्राप्त करना पड़ा। एक अन्य शोधकर्ता डॉ॰ नाबी यामागुची ने बताया कि मध्य एशिया जाने के लिए कैस्पियन बाघों द्वारा अपनाया गया मार्ग हमेशा एक पहेली माना जाता रहा। क्योंकि मध्य एशियाई बाघ तिब्बत के पठारी बाघों से अलग नजर आते हैं। लेकिन नए अध्ययन में कहा गया है कि लगभग १० हजार साल पहले बाघ चीन के संकरे गांसु गलियारे से गुजरकर भारत पहुंचे। इसके हजारों साल बाद यही मार्ग व्यापारिक सिल्क रूट के नाम से विख्यात हुआ।[5]'''"
   ]
  },
  {
   "cell_type": "code",
   "execution_count": 49,
   "metadata": {},
   "outputs": [
    {
     "name": "stdout",
     "output_type": "stream",
     "text": [
      "जीवन शैली इसे वन, दलदली क्षेत्र तथा घास के मैदानों के पास रहना पसंद है। इसका आहार मुख्य रूप से सांभर, चीतल, जंगली सूअर, भैंसे जंगली हिरण, गौर और मनुष्य के पालतू पशु हैं। अपने बड़े वजन और ताकत के अलावा बाघ अपनी धारियों से पहचाना जा सकता है। बाघ की सुनने, सूँघने और देखने की क्षमता तीव्र होती है। बाघ अक्सर पीछे से हमला करता है। धारीदार शरीर के कारण शिकार का पीछा करते समय वह झाड़ियों के बीच इस प्रकार छिपा रहता है कि शिकार उसे देख ही नहीं पाता। बाघ बड़ी एकाग्रता और धीरज से शिकार करता है। यद्यपि वह बहुत तेज रफ्तार से दौड़ सकता है, भारी-भरकम शरीर के कारण वह बहुत जल्द थक जाता है। इसलिए शिकार को लंबी दूरी तक पीछा करना उसके बस की बात नहीं है। वह छिपकर शिकार के बहुत निकट तक पहुँचता है और फिर एक दम से उस पर कूद पड़ता है। यदि कुछ गज की दूरी में ही शिकार को दबोच न सका, तो वह उसे छोड़ देता है। हर बीस प्रयासों में उसे औसतन केवल एक बार ही सफलता हाथ लगती है क्योंकि कुदरत ने बाघ की हर चाल की तोड़ शिकार बननेवाले प्राणियों को दी है। बाघ सामान्यतः दिन में चीतल, जंगली सूअर और कभी-कभी गौर के बच्चों का शिकार करता है। बाघ अधिकतर अकेले ही रहता है। हर बाघ का अपना एक निश्चित क्षेत्र होता है। केवल प्रजननकाल में नर मादा इकट्ठा होते हैं।[3] लगभग साढ़े तीन महीने का गर्भाधान काल होता है और एक बार में २-३ शावक जन्म लेते हैं। बाघिन अपने बच्चे के साथ रहती है। बाघ के बच्चे शिकार पकड़ने की कला अपनी माँ से सीखते हैं। ढाई वर्ष के बाद ये स्वतंत्र रहने लगते हैं। इसकी आयु लगभग १९ वर्ष होती है। \n",
      "\n",
      "संरक्षण बाघ एक अत्यंत संकटग्रस्त प्राणी है। इसे वास स्थलों की क्षति और अवैध शिकार का संकट बना ही रहता है। पूरी दुनिया में उसकी संख्या ६,००० से भी कम है। उनमें से लगभग ४,००० भारत में पाए जाते हैं। भारत के बाघ को एक अलग प्रजाति माना जाता है, जिसका वैज्ञानिक नाम है पेंथेरा टाइग्रिस टाइग्रिस। बाघ की नौ प्रजातियों में से तीन अब विलुप्त हो चुकी हैं। ज्ञात आठ किस्‍मों की प्रजाति में से रायल बंगाल टाइगर उत्‍तर पूर्वी क्षेत्रों को छोड़कर देश भर में पाया जाता है और पड़ोसी देशों में भी पाया जाता है, जैसे नेपाल, भूटान और बांगलादेश। भारत में बाघों की घटती जनसंख्‍या की जांच करने के लिए अप्रैल १९७३ में प्रोजेक्‍ट टाइगर (बाघ परियोजना) शुरू की गई। अब तक इस परियोजना के अधीन बाघ के २७ आरक्षित क्षेत्रों की स्‍थापना की गई है जिनमें ३७,७६१ वर्ग कि॰मी॰ क्षेत्र शामिल है।[4] \n",
      "\n",
      "भारतीय बाघ अपने प्राकृतिक आवास में बाघ के पूर्वजों के चीन में रहने के निशान मिले हैं। हाल ही में मिले बाघ की एक विलुप्त उप प्रजाति के डीएनए से पता चला है कि बाघ के पूर्वज मध्य चीन से भारत आए थे। वे जिस रास्ते से भारत आए थे कई शताब्दियों बाद इसी रास्ते को रेशम मार्ग (सिल्क रूट) के नाम से जाना गया। आक्सफोर्ड यूनिवर्सिटी और अमेरिका में एनसीआई लेबोरेट्री ऑफ जीनोमिक डाइवर्सिटी के वैज्ञानिकों के मुताबिक[2] १९७० में विलुप्त हो जाने वाले मध्य एशिया के कैस्पियन बाघ व रूस के सुदूर पूर्व में मिलने वाले साइबेरियाई या एमुर बाघ एक जैसे हैं। इस खोज से यह पता चलता है कि किस तरह बाघ मध्य एशिया और रूस पहुंचे। आक्सफोर्ड के वाइल्ड लाइफ रिसर्च कंजरवेशन यूनिट के एक शोधकर्ता कार्लोस ड्रिस्काल के अनुसार विलुप्त कैस्पियन और आज के साइबेरियाई बाघ सबसे नजदीकी प्रजातियां हैं। इसका मतलब है कि कैस्पियन बाघ कभी विलुप्त नहीं हुए। अध्ययन के हवाले से कहा गया है कि ४० साल पहले विलुप्त हो गए कैस्पियन बाघों का ठीक से अध्ययन नहीं किया जा सका था। इसलिए हमें डीएनए नमूनों को फिर से प्राप्त करना पड़ा। एक अन्य शोधकर्ता डॉ॰ नाबी यामागुची ने बताया कि मध्य एशिया जाने के लिए कैस्पियन बाघों द्वारा अपनाया गया मार्ग हमेशा एक पहेली माना जाता रहा। क्योंकि मध्य एशियाई बाघ तिब्बत के पठारी बाघों से अलग नजर आते हैं। लेकिन नए अध्ययन में कहा गया है कि लगभग १० हजार साल पहले बाघ चीन के संकरे गांसु गलियारे से गुजरकर भारत पहुंचे। इसके हजारों साल बाद यही मार्ग व्यापारिक सिल्क रूट के नाम से विख्यात हुआ।[5] \n",
      "\n"
     ]
    }
   ],
   "source": [
    "\n",
    "# Intializer the parser\n",
    "my_parser = PlaintextParser.from_string(htext, Tokenizer('english'))\n",
    "# Extract top 3 sentence\n",
    "summary = lex_rank_summarozation(my_parser.document, sentences_count = 3)\n",
    "for sent in summary:\n",
    "    print(sent, '\\n')"
   ]
  },
  {
   "cell_type": "code",
   "execution_count": 52,
   "metadata": {},
   "outputs": [
    {
     "name": "stdout",
     "output_type": "stream",
     "text": [
      "जीवन शैली इसे वन, दलदली क्षेत्र तथा घास के मैदानों के पास रहना पसंद है। इसका आहार मुख्य रूप से सांभर, चीतल, जंगली सूअर, भैंसे जंगली हिरण, गौर और मनुष्य के पालतू पशु हैं। अपने बड़े वजन और ताकत के अलावा बाघ अपनी धारियों से पहचाना जा सकता है। बाघ की सुनने, सूँघने और देखने की क्षमता तीव्र होती है। बाघ अक्सर पीछे से हमला करता है। धारीदार शरीर के कारण शिकार का पीछा करते समय वह झाड़ियों के बीच इस प्रकार छिपा रहता है कि शिकार उसे देख ही नहीं पाता। बाघ बड़ी एकाग्रता और धीरज से शिकार करता है। यद्यपि वह बहुत तेज रफ्तार से दौड़ सकता है, भारी-भरकम शरीर के कारण वह बहुत जल्द थक जाता है। इसलिए शिकार को लंबी दूरी तक पीछा करना उसके बस की बात नहीं है। वह छिपकर शिकार के बहुत निकट तक पहुँचता है और फिर एक दम से उस पर कूद पड़ता है। यदि कुछ गज की दूरी में ही शिकार को दबोच न सका, तो वह उसे छोड़ देता है। हर बीस प्रयासों में उसे औसतन केवल एक बार ही सफलता हाथ लगती है क्योंकि कुदरत ने बाघ की हर चाल की तोड़ शिकार बननेवाले प्राणियों को दी है। बाघ सामान्यतः दिन में चीतल, जंगली सूअर और कभी-कभी गौर के बच्चों का शिकार करता है। बाघ अधिकतर अकेले ही रहता है। हर बाघ का अपना एक निश्चित क्षेत्र होता है। केवल प्रजननकाल में नर मादा इकट्ठा होते हैं।[3] लगभग साढ़े तीन महीने का गर्भाधान काल होता है और एक बार में २-३ शावक जन्म लेते हैं। बाघिन अपने बच्चे के साथ रहती है। बाघ के बच्चे शिकार पकड़ने की कला अपनी माँ से सीखते हैं। ढाई वर्ष के बाद ये स्वतंत्र रहने लगते हैं। इसकी आयु लगभग १९ वर्ष होती है। \n",
      "\n",
      "संरक्षण बाघ एक अत्यंत संकटग्रस्त प्राणी है। इसे वास स्थलों की क्षति और अवैध शिकार का संकट बना ही रहता है। पूरी दुनिया में उसकी संख्या ६,००० से भी कम है। उनमें से लगभग ४,००० भारत में पाए जाते हैं। भारत के बाघ को एक अलग प्रजाति माना जाता है, जिसका वैज्ञानिक नाम है पेंथेरा टाइग्रिस टाइग्रिस। बाघ की नौ प्रजातियों में से तीन अब विलुप्त हो चुकी हैं। ज्ञात आठ किस्‍मों की प्रजाति में से रायल बंगाल टाइगर उत्‍तर पूर्वी क्षेत्रों को छोड़कर देश भर में पाया जाता है और पड़ोसी देशों में भी पाया जाता है, जैसे नेपाल, भूटान और बांगलादेश। भारत में बाघों की घटती जनसंख्‍या की जांच करने के लिए अप्रैल १९७३ में प्रोजेक्‍ट टाइगर (बाघ परियोजना) शुरू की गई। अब तक इस परियोजना के अधीन बाघ के २७ आरक्षित क्षेत्रों की स्‍थापना की गई है जिनमें ३७,७६१ वर्ग कि॰मी॰ क्षेत्र शामिल है।[4] \n",
      "\n",
      "इतिहास \n",
      "\n",
      "भारतीय बाघ अपने प्राकृतिक आवास में बाघ के पूर्वजों के चीन में रहने के निशान मिले हैं। हाल ही में मिले बाघ की एक विलुप्त उप प्रजाति के डीएनए से पता चला है कि बाघ के पूर्वज मध्य चीन से भारत आए थे। वे जिस रास्ते से भारत आए थे कई शताब्दियों बाद इसी रास्ते को रेशम मार्ग (सिल्क रूट) के नाम से जाना गया। आक्सफोर्ड यूनिवर्सिटी और अमेरिका में एनसीआई लेबोरेट्री ऑफ जीनोमिक डाइवर्सिटी के वैज्ञानिकों के मुताबिक[2] १९७० में विलुप्त हो जाने वाले मध्य एशिया के कैस्पियन बाघ व रूस के सुदूर पूर्व में मिलने वाले साइबेरियाई या एमुर बाघ एक जैसे हैं। इस खोज से यह पता चलता है कि किस तरह बाघ मध्य एशिया और रूस पहुंचे। आक्सफोर्ड के वाइल्ड लाइफ रिसर्च कंजरवेशन यूनिट के एक शोधकर्ता कार्लोस ड्रिस्काल के अनुसार विलुप्त कैस्पियन और आज के साइबेरियाई बाघ सबसे नजदीकी प्रजातियां हैं। इसका मतलब है कि कैस्पियन बाघ कभी विलुप्त नहीं हुए। अध्ययन के हवाले से कहा गया है कि ४० साल पहले विलुप्त हो गए कैस्पियन बाघों का ठीक से अध्ययन नहीं किया जा सका था। इसलिए हमें डीएनए नमूनों को फिर से प्राप्त करना पड़ा। एक अन्य शोधकर्ता डॉ॰ नाबी यामागुची ने बताया कि मध्य एशिया जाने के लिए कैस्पियन बाघों द्वारा अपनाया गया मार्ग हमेशा एक पहेली माना जाता रहा। क्योंकि मध्य एशियाई बाघ तिब्बत के पठारी बाघों से अलग नजर आते हैं। लेकिन नए अध्ययन में कहा गया है कि लगभग १० हजार साल पहले बाघ चीन के संकरे गांसु गलियारे से गुजरकर भारत पहुंचे। इसके हजारों साल बाद यही मार्ग व्यापारिक सिल्क रूट के नाम से विख्यात हुआ।[5] \n",
      "\n"
     ]
    }
   ],
   "source": [
    "# Intializer the parser\n",
    "my_parser = PlaintextParser.from_string(htext, Tokenizer('english'))\n",
    "# Extract top 3 sentence\n",
    "summary = text_rank_summarizer(my_parser.document, sentences_count = 4)\n",
    "for sent in summary:\n",
    "    print(sent, '\\n')"
   ]
  },
  {
   "cell_type": "markdown",
   "metadata": {},
   "source": [
    "#### LSA Summarization"
   ]
  },
  {
   "cell_type": "code",
   "execution_count": 53,
   "metadata": {},
   "outputs": [],
   "source": [
    "# Import  the clsass\n",
    "from sumy.summarizers.lsa import LsaSummarizer"
   ]
  },
  {
   "cell_type": "code",
   "execution_count": 54,
   "metadata": {},
   "outputs": [],
   "source": [
    "# Create the object of summarization\n",
    "lsa_summarozation = LsaSummarizer()"
   ]
  },
  {
   "cell_type": "code",
   "execution_count": 55,
   "metadata": {},
   "outputs": [],
   "source": [
    "# Intialization the parser\n",
    "my_parser = PlaintextParser.from_string(text, Tokenizer('english'))"
   ]
  },
  {
   "cell_type": "code",
   "execution_count": 59,
   "metadata": {},
   "outputs": [
    {
     "name": "stdout",
     "output_type": "stream",
     "text": [
      "It is listed as Endangered on the IUCN Red List of Threatened Species, as its range is thought to have declined by 53% to 68% since the late 1990s. \n",
      "\n",
      "Tigers are also victims of human–wildlife conflict for attacking and preying on livestock in areas, where natural prey is scarce. \n",
      "\n",
      "The species is legally protected in all range countries, which have ratified conservation action plans, established anti-poaching patrols and schemes for monitoring tiger populations. \n",
      "\n"
     ]
    }
   ],
   "source": [
    "# Extract top 3 sentence\n",
    "summary = lsa_summarozation(my_parser.document, sentences_count=3)\n",
    "for sent in summary:\n",
    "    print(sent, '\\n')"
   ]
  },
  {
   "cell_type": "markdown",
   "metadata": {},
   "source": [
    "##  Abstract Summarization "
   ]
  },
  {
   "cell_type": "markdown",
   "metadata": {},
   "source": [
    "##### USing GPT"
   ]
  },
  {
   "cell_type": "code",
   "execution_count": 64,
   "metadata": {},
   "outputs": [],
   "source": [
    "from transformers import pipeline"
   ]
  },
  {
   "cell_type": "code",
   "execution_count": 62,
   "metadata": {},
   "outputs": [
    {
     "name": "stdout",
     "output_type": "stream",
     "text": [
      "Help on class Pipeline in module transformers.pipelines.base:\n",
      "\n",
      "class Pipeline(_ScikitCompat)\n",
      " |  Pipeline(model: Union[ForwardRef('PreTrainedModel'), ForwardRef('TFPreTrainedModel')], tokenizer: Optional[transformers.tokenization_utils.PreTrainedTokenizer] = None, feature_extractor: Optional[ForwardRef('SequenceFeatureExtractor')] = None, image_processor: Optional[transformers.image_processing_utils.BaseImageProcessor] = None, modelcard: Optional[transformers.modelcard.ModelCard] = None, framework: Optional[str] = None, task: str = '', args_parser: transformers.pipelines.base.ArgumentHandler = None, device: Union[int, ForwardRef('torch.device')] = None, torch_dtype: Union[str, ForwardRef('torch.dtype'), NoneType] = None, binary_output: bool = False, **kwargs)\n",
      " |  \n",
      " |  The Pipeline class is the class from which all pipelines inherit. Refer to this class for methods shared across\n",
      " |  different pipelines.\n",
      " |  \n",
      " |  Base class implementing pipelined operations. Pipeline workflow is defined as a sequence of the following\n",
      " |  operations:\n",
      " |  \n",
      " |      Input -> Tokenization -> Model Inference -> Post-Processing (task dependent) -> Output\n",
      " |  \n",
      " |  Pipeline supports running on CPU or GPU through the device argument (see below).\n",
      " |  \n",
      " |  Some pipeline, like for instance [`FeatureExtractionPipeline`] (`'feature-extraction'`) output large tensor object\n",
      " |  as nested-lists. In order to avoid dumping such large structure as textual data we provide the `binary_output`\n",
      " |  constructor argument. If set to `True`, the output will be stored in the pickle format.\n",
      " |  \n",
      " |  Arguments:\n",
      " |      model ([`PreTrainedModel`] or [`TFPreTrainedModel`]):\n",
      " |          The model that will be used by the pipeline to make predictions. This needs to be a model inheriting from\n",
      " |          [`PreTrainedModel`] for PyTorch and [`TFPreTrainedModel`] for TensorFlow.\n",
      " |      tokenizer ([`PreTrainedTokenizer`]):\n",
      " |          The tokenizer that will be used by the pipeline to encode data for the model. This object inherits from\n",
      " |          [`PreTrainedTokenizer`].\n",
      " |      modelcard (`str` or [`ModelCard`], *optional*):\n",
      " |          Model card attributed to the model for this pipeline.\n",
      " |      framework (`str`, *optional*):\n",
      " |          The framework to use, either `\"pt\"` for PyTorch or `\"tf\"` for TensorFlow. The specified framework must be\n",
      " |          installed.\n",
      " |  \n",
      " |          If no framework is specified, will default to the one currently installed. If no framework is specified and\n",
      " |          both frameworks are installed, will default to the framework of the `model`, or to PyTorch if no model is\n",
      " |          provided.\n",
      " |      task (`str`, defaults to `\"\"`):\n",
      " |          A task-identifier for the pipeline.\n",
      " |      num_workers (`int`, *optional*, defaults to 8):\n",
      " |          When the pipeline will use *DataLoader* (when passing a dataset, on GPU for a Pytorch model), the number of\n",
      " |          workers to be used.\n",
      " |      batch_size (`int`, *optional*, defaults to 1):\n",
      " |          When the pipeline will use *DataLoader* (when passing a dataset, on GPU for a Pytorch model), the size of\n",
      " |          the batch to use, for inference this is not always beneficial, please read [Batching with\n",
      " |          pipelines](https://huggingface.co/transformers/main_classes/pipelines.html#pipeline-batching) .\n",
      " |      args_parser ([`~pipelines.ArgumentHandler`], *optional*):\n",
      " |          Reference to the object in charge of parsing supplied pipeline parameters.\n",
      " |      device (`int`, *optional*, defaults to -1):\n",
      " |          Device ordinal for CPU/GPU supports. Setting this to -1 will leverage CPU, a positive will run the model on\n",
      " |          the associated CUDA device id. You can pass native `torch.device` or a `str` too.\n",
      " |      binary_output (`bool`, *optional*, defaults to `False`):\n",
      " |          Flag indicating if the output the pipeline should happen in a binary format (i.e., pickle) or as raw text.\n",
      " |  \n",
      " |  Method resolution order:\n",
      " |      Pipeline\n",
      " |      _ScikitCompat\n",
      " |      abc.ABC\n",
      " |      builtins.object\n",
      " |  \n",
      " |  Methods defined here:\n",
      " |  \n",
      " |  __call__(self, inputs, *args, num_workers=None, batch_size=None, **kwargs)\n",
      " |      Call self as a function.\n",
      " |  \n",
      " |  __init__(self, model: Union[ForwardRef('PreTrainedModel'), ForwardRef('TFPreTrainedModel')], tokenizer: Optional[transformers.tokenization_utils.PreTrainedTokenizer] = None, feature_extractor: Optional[ForwardRef('SequenceFeatureExtractor')] = None, image_processor: Optional[transformers.image_processing_utils.BaseImageProcessor] = None, modelcard: Optional[transformers.modelcard.ModelCard] = None, framework: Optional[str] = None, task: str = '', args_parser: transformers.pipelines.base.ArgumentHandler = None, device: Union[int, ForwardRef('torch.device')] = None, torch_dtype: Union[str, ForwardRef('torch.dtype'), NoneType] = None, binary_output: bool = False, **kwargs)\n",
      " |      Initialize self.  See help(type(self)) for accurate signature.\n",
      " |  \n",
      " |  check_model_type(self, supported_models: Union[List[str], dict])\n",
      " |      Check if the model class is in supported by the pipeline.\n",
      " |      \n",
      " |      Args:\n",
      " |          supported_models (`List[str]` or `dict`):\n",
      " |              The list of models supported by the pipeline, or a dictionary with model class values.\n",
      " |  \n",
      " |  device_placement(self)\n",
      " |      Context Manager allowing tensor allocation on the user-specified device in framework agnostic way.\n",
      " |      \n",
      " |      Returns:\n",
      " |          Context manager\n",
      " |      \n",
      " |      Examples:\n",
      " |      \n",
      " |      ```python\n",
      " |      # Explicitly ask for tensor allocation on CUDA device :0\n",
      " |      pipe = pipeline(..., device=0)\n",
      " |      with pipe.device_placement():\n",
      " |          # Every framework specific tensor allocation will be done on the request device\n",
      " |          output = pipe(...)\n",
      " |      ```\n",
      " |  \n",
      " |  ensure_tensor_on_device(self, **inputs)\n",
      " |      Ensure PyTorch tensors are on the specified device.\n",
      " |      \n",
      " |      Args:\n",
      " |          inputs (keyword arguments that should be `torch.Tensor`, the rest is ignored):\n",
      " |              The tensors to place on `self.device`.\n",
      " |          Recursive on lists **only**.\n",
      " |      \n",
      " |      Return:\n",
      " |          `Dict[str, torch.Tensor]`: The same as `inputs` but on the proper device.\n",
      " |  \n",
      " |  forward(self, model_inputs, **forward_params)\n",
      " |  \n",
      " |  get_inference_context(self)\n",
      " |  \n",
      " |  get_iterator(self, inputs, num_workers: int, batch_size: int, preprocess_params, forward_params, postprocess_params)\n",
      " |  \n",
      " |  iterate(self, inputs, preprocess_params, forward_params, postprocess_params)\n",
      " |  \n",
      " |  postprocess(self, model_outputs: transformers.utils.generic.ModelOutput, **postprocess_parameters: Dict) -> Any\n",
      " |      Postprocess will receive the raw outputs of the `_forward` method, generally tensors, and reformat them into\n",
      " |      something more friendly. Generally it will output a list or a dict or results (containing just strings and\n",
      " |      numbers).\n",
      " |  \n",
      " |  predict(self, X)\n",
      " |      Scikit / Keras interface to transformers' pipelines. This method will forward to __call__().\n",
      " |  \n",
      " |  preprocess(self, input_: Any, **preprocess_parameters: Dict) -> Dict[str, Union[List[ForwardRef('GenericTensor')], ForwardRef('torch.Tensor'), ForwardRef('tf.Tensor')]]\n",
      " |      Preprocess will take the `input_` of a specific pipeline and return a dictionary of everything necessary for\n",
      " |      `_forward` to run properly. It should contain at least one tensor, but might have arbitrary other items.\n",
      " |  \n",
      " |  run_multi(self, inputs, preprocess_params, forward_params, postprocess_params)\n",
      " |  \n",
      " |  run_single(self, inputs, preprocess_params, forward_params, postprocess_params)\n",
      " |  \n",
      " |  save_pretrained(self, save_directory: str, safe_serialization: bool = True)\n",
      " |      Save the pipeline's model and tokenizer.\n",
      " |      \n",
      " |      Args:\n",
      " |          save_directory (`str`):\n",
      " |              A path to the directory where to saved. It will be created if it doesn't exist.\n",
      " |          safe_serialization (`str`):\n",
      " |              Whether to save the model using `safetensors` or the traditional way for PyTorch or Tensorflow.\n",
      " |  \n",
      " |  transform(self, X)\n",
      " |      Scikit / Keras interface to transformers' pipelines. This method will forward to __call__().\n",
      " |  \n",
      " |  ----------------------------------------------------------------------\n",
      " |  Data and other attributes defined here:\n",
      " |  \n",
      " |  __abstractmethods__ = frozenset({'_forward', '_sanitize_parameters', '...\n",
      " |  \n",
      " |  default_input_names = None\n",
      " |  \n",
      " |  ----------------------------------------------------------------------\n",
      " |  Data descriptors inherited from _ScikitCompat:\n",
      " |  \n",
      " |  __dict__\n",
      " |      dictionary for instance variables\n",
      " |  \n",
      " |  __weakref__\n",
      " |      list of weak references to the object\n",
      "\n"
     ]
    }
   ],
   "source": [
    "help(Pipeline)"
   ]
  },
  {
   "cell_type": "code",
   "execution_count": 70,
   "metadata": {},
   "outputs": [
    {
     "name": "stderr",
     "output_type": "stream",
     "text": [
      "No model was supplied, defaulted to sshleifer/distilbart-cnn-12-6 and revision a4f8f3e (https://huggingface.co/sshleifer/distilbart-cnn-12-6).\n",
      "Using a pipeline without specifying a model name and revision in production is not recommended.\n",
      "c:\\Users\\Administrator.DAI-PC2\\anaconda3\\Lib\\site-packages\\huggingface_hub\\file_download.py:1132: FutureWarning: `resume_download` is deprecated and will be removed in version 1.0.0. Downloads always resume when possible. If you want to force a new download, use `force_download=True`.\n",
      "  warnings.warn(\n"
     ]
    }
   ],
   "source": [
    "text_summarization = pipeline('summarization')"
   ]
  },
  {
   "cell_type": "code",
   "execution_count": 71,
   "metadata": {},
   "outputs": [],
   "source": [
    "output = text_summarization(text, max_length = 400, min_length= 100)"
   ]
  },
  {
   "cell_type": "code",
   "execution_count": 73,
   "metadata": {},
   "outputs": [
    {
     "name": "stdout",
     "output_type": "stream",
     "text": [
      " The tiger (Panthera tigris) is the largest living cat species and a member of the genus Panthera native to Asia . It has a powerful, muscular body with a large head and paws, a long tail, and orange fur with black, mostly vertical stripes . It is listed as Endangered on the IUCN Red List of Threatened Species . Tiger populations have lost at least 93% of their historic range and are locally extinct in West and Central Asia, in large areas of China, and on the islands of Java and Bali .\n"
     ]
    }
   ],
   "source": [
    "print(output[0]['summary_text'])"
   ]
  },
  {
   "cell_type": "code",
   "execution_count": null,
   "metadata": {},
   "outputs": [],
   "source": []
  }
 ],
 "metadata": {
  "kernelspec": {
   "display_name": "base",
   "language": "python",
   "name": "python3"
  },
  "language_info": {
   "codemirror_mode": {
    "name": "ipython",
    "version": 3
   },
   "file_extension": ".py",
   "mimetype": "text/x-python",
   "name": "python",
   "nbconvert_exporter": "python",
   "pygments_lexer": "ipython3",
   "version": "3.11.7"
  }
 },
 "nbformat": 4,
 "nbformat_minor": 2
}
