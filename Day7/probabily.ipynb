{
 "cells": [
  {
   "cell_type": "code",
   "execution_count": 2,
   "metadata": {},
   "outputs": [],
   "source": [
    "### Theoratical Probability'\n",
    "#Theoretical probability is the probability of an event occurring based on the number of favorable outcomes and the total\n",
    "\n",
    "def coin_flio_probability():\n",
    "    head_probability = 1/2\n",
    "    return head_probability\n",
    "\n",
    "def rolling_dice_probability(number):\n",
    "    if number not in range(1,7):\n",
    "        raise ValueError(\" NUmber must be in betwen 1 to 6\")\n",
    "    \n",
    "    probability = 1/6\n",
    "    return probability"
   ]
  },
  {
   "cell_type": "code",
   "execution_count": 3,
   "metadata": {},
   "outputs": [
    {
     "name": "stdout",
     "output_type": "stream",
     "text": [
      " Probability ogf head in the a coin flip: 0.5\n",
      " Probability ogf rollinh a 4 on dice 0.16666666666666666\n"
     ]
    }
   ],
   "source": [
    "\n",
    "coin_flip_result = coin_flio_probability()\n",
    "rolling_dice_result = rolling_dice_probability(4)\n",
    "\n",
    "print(\" Probability ogf head in the a coin flip:\", coin_flip_result)\n",
    "print(\" Probability ogf rollinh a 4 on dice\", rolling_dice_result)"
   ]
  },
  {
   "cell_type": "markdown",
   "metadata": {},
   "source": [
    "## Experimental Proabability "
   ]
  },
  {
   "cell_type": "code",
   "execution_count": 4,
   "metadata": {},
   "outputs": [],
   "source": [
    "import random\n",
    "import pandas as pd\n"
   ]
  },
  {
   "cell_type": "code",
   "execution_count": 11,
   "metadata": {},
   "outputs": [],
   "source": [
    "def simulate_coin_flip(num_flip):\n",
    "    result = []\n",
    "    for _ in range(num_flip):\n",
    "        flip = random.choice(['head', 'tails'])\n",
    "        result.append(flip)\n",
    "    return result\n"
   ]
  },
  {
   "cell_type": "code",
   "execution_count": 48,
   "metadata": {},
   "outputs": [
    {
     "data": {
      "text/plain": [
       "['head',\n",
       " 'head',\n",
       " 'tails',\n",
       " 'head',\n",
       " 'head',\n",
       " 'tails',\n",
       " 'tails',\n",
       " 'tails',\n",
       " 'head',\n",
       " 'tails',\n",
       " 'tails',\n",
       " 'tails',\n",
       " 'tails',\n",
       " 'tails',\n",
       " 'head',\n",
       " 'head',\n",
       " 'tails',\n",
       " 'head',\n",
       " 'head',\n",
       " 'head',\n",
       " 'head',\n",
       " 'tails',\n",
       " 'tails',\n",
       " 'tails',\n",
       " 'tails',\n",
       " 'tails',\n",
       " 'head',\n",
       " 'head',\n",
       " 'tails',\n",
       " 'tails',\n",
       " 'tails',\n",
       " 'tails',\n",
       " 'head',\n",
       " 'head',\n",
       " 'tails',\n",
       " 'head',\n",
       " 'tails',\n",
       " 'head',\n",
       " 'tails',\n",
       " 'head',\n",
       " 'head',\n",
       " 'head',\n",
       " 'tails',\n",
       " 'head',\n",
       " 'tails',\n",
       " 'tails',\n",
       " 'tails',\n",
       " 'head',\n",
       " 'head',\n",
       " 'head',\n",
       " 'tails',\n",
       " 'tails',\n",
       " 'tails',\n",
       " 'head',\n",
       " 'tails',\n",
       " 'head',\n",
       " 'head',\n",
       " 'head',\n",
       " 'tails',\n",
       " 'head',\n",
       " 'head',\n",
       " 'head',\n",
       " 'tails',\n",
       " 'tails',\n",
       " 'head',\n",
       " 'tails',\n",
       " 'head',\n",
       " 'tails',\n",
       " 'tails',\n",
       " 'tails',\n",
       " 'head',\n",
       " 'head',\n",
       " 'tails',\n",
       " 'tails',\n",
       " 'head',\n",
       " 'tails',\n",
       " 'tails',\n",
       " 'head',\n",
       " 'head',\n",
       " 'tails',\n",
       " 'head',\n",
       " 'tails',\n",
       " 'head',\n",
       " 'head',\n",
       " 'tails',\n",
       " 'head',\n",
       " 'head',\n",
       " 'tails',\n",
       " 'tails',\n",
       " 'head',\n",
       " 'head',\n",
       " 'head',\n",
       " 'head',\n",
       " 'tails',\n",
       " 'tails',\n",
       " 'head',\n",
       " 'head',\n",
       " 'head',\n",
       " 'head',\n",
       " 'tails']"
      ]
     },
     "execution_count": 48,
     "metadata": {},
     "output_type": "execute_result"
    }
   ],
   "source": [
    "simulate_coin_flip(100)"
   ]
  },
  {
   "cell_type": "code",
   "execution_count": 15,
   "metadata": {},
   "outputs": [
    {
     "data": {
      "text/plain": [
       "head     53\n",
       "tails    47\n",
       "Name: count, dtype: int64"
      ]
     },
     "execution_count": 15,
     "metadata": {},
     "output_type": "execute_result"
    }
   ],
   "source": [
    "pd.Series(simulate_coin_flip(100)).value_counts()"
   ]
  },
  {
   "cell_type": "code",
   "execution_count": 17,
   "metadata": {},
   "outputs": [],
   "source": [
    "def calculate_experimental_probability(results, event):\n",
    "    event_count = results.count(event)\n",
    "    total_flips = len(results)\n",
    "    probability = event_count / total_flips\n",
    "    return probability"
   ]
  },
  {
   "cell_type": "code",
   "execution_count": 47,
   "metadata": {},
   "outputs": [
    {
     "name": "stdout",
     "output_type": "stream",
     "text": [
      "Number of flip :  1000\n",
      "Head Probability : 0.5170\n",
      "Tail Probability : 0.4830\n"
     ]
    }
   ],
   "source": [
    "# Example usage \n",
    "num_flip = 1000\n",
    "simulation_result = simulate_coin_flip(num_flip)\n",
    "\n",
    "head_probability = calculate_experimental_probability(simulation_result, 'head')\n",
    "tail_probability = calculate_experimental_probability(simulation_result, 'tails')\n",
    "\n",
    "print('Number of flip : ', num_flip)\n",
    "print(f\"Head Probability : {head_probability:.4f}\")\n",
    "print(f\"Tail Probability : {tail_probability:.4f}\")"
   ]
  },
  {
   "cell_type": "markdown",
   "metadata": {},
   "source": [
    "##### Linear Growth"
   ]
  },
  {
   "cell_type": "code",
   "execution_count": 49,
   "metadata": {},
   "outputs": [],
   "source": [
    "import numpy as np\n"
   ]
  },
  {
   "cell_type": "code",
   "execution_count": 51,
   "metadata": {},
   "outputs": [
    {
     "data": {
      "text/plain": [
       "array([0.  , 0.25, 0.5 , 0.75, 1.  , 1.25, 1.5 , 1.75, 2.  , 2.25, 2.5 ,\n",
       "       2.75, 3.  , 3.25, 3.5 , 3.75, 4.  , 4.25, 4.5 , 4.75, 5.  , 5.25,\n",
       "       5.5 , 5.75, 6.  , 6.25, 6.5 , 6.75, 7.  , 7.25, 7.5 , 7.75, 8.  ,\n",
       "       8.25, 8.5 , 8.75, 9.  , 9.25, 9.5 , 9.75])"
      ]
     },
     "execution_count": 51,
     "metadata": {},
     "output_type": "execute_result"
    }
   ],
   "source": [
    "x = np.arange(0,10, 0.25)\n",
    "x"
   ]
  },
  {
   "cell_type": "code",
   "execution_count": null,
   "metadata": {},
   "outputs": [],
   "source": []
  },
  {
   "cell_type": "code",
   "execution_count": 52,
   "metadata": {},
   "outputs": [],
   "source": [
    "y = x*0.34767 + 15.003543"
   ]
  },
  {
   "cell_type": "code",
   "execution_count": 53,
   "metadata": {},
   "outputs": [
    {
     "data": {
      "text/plain": [
       "array([15.003543 , 15.0904605, 15.177378 , 15.2642955, 15.351213 ,\n",
       "       15.4381305, 15.525048 , 15.6119655, 15.698883 , 15.7858005,\n",
       "       15.872718 , 15.9596355, 16.046553 , 16.1334705, 16.220388 ,\n",
       "       16.3073055, 16.394223 , 16.4811405, 16.568058 , 16.6549755,\n",
       "       16.741893 , 16.8288105, 16.915728 , 17.0026455, 17.089563 ,\n",
       "       17.1764805, 17.263398 , 17.3503155, 17.437233 , 17.5241505,\n",
       "       17.611068 , 17.6979855, 17.784903 , 17.8718205, 17.958738 ,\n",
       "       18.0456555, 18.132573 , 18.2194905, 18.306408 , 18.3933255])"
      ]
     },
     "execution_count": 53,
     "metadata": {},
     "output_type": "execute_result"
    }
   ],
   "source": [
    "y"
   ]
  },
  {
   "cell_type": "code",
   "execution_count": 55,
   "metadata": {},
   "outputs": [
    {
     "data": {
      "text/plain": [
       "[<matplotlib.lines.Line2D at 0x2c45ad90c10>]"
      ]
     },
     "execution_count": 55,
     "metadata": {},
     "output_type": "execute_result"
    },
    {
     "data": {
      "image/png": "[encoded data removed]",
      "text/plain": [
       "<Figure size 640x480 with 1 Axes>"
      ]
     },
     "metadata": {},
     "output_type": "display_data"
    }
   ],
   "source": [
    "import matplotlib.pyplot as plt\n",
    "plt.plot(x,y)"
   ]
  },
  {
   "cell_type": "code",
   "execution_count": null,
   "metadata": {},
   "outputs": [],
   "source": []
  }
 ],
 "metadata": {
  "kernelspec": {
   "display_name": "base",
   "language": "python",
   "name": "python3"
  },
  "language_info": {
   "codemirror_mode": {
    "name": "ipython",
    "version": 3
   },
   "file_extension": ".py",
   "mimetype": "text/x-python",
   "name": "python",
   "nbconvert_exporter": "python",
   "pygments_lexer": "ipython3",
   "version": "3.11.7"
  }
 },
 "nbformat": 4,
 "nbformat_minor": 2
}
